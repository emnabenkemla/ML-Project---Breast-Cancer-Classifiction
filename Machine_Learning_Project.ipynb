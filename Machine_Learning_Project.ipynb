{
  "nbformat": 4,
  "nbformat_minor": 0,
  "metadata": {
    "colab": {
      "provenance": [],
      "collapsed_sections": [
        "eLtb2NgCxt9I",
        "Jt5DCkTBPDwx",
        "SEysrrGtQsuR",
        "_GtlXA1AZaSc",
        "E7lxMfj-eBfY",
        "b1O4iTxdRpnE",
        "hNSOzBaSadqv",
        "kuKCEgF7fTts",
        "AEOWjMSVaCKI",
        "0y5ksvL4auWE",
        "N2ziP3SFdU1S",
        "3EWK0-6BCXHa",
        "b99HJSDMfMI5",
        "jIfadDFflg0R",
        "0i08sAyn1C5g"
      ]
    },
    "kernelspec": {
      "name": "python3",
      "display_name": "Python 3"
    },
    "language_info": {
      "name": "python"
    }
  },
  "cells": [
    {
      "cell_type": "markdown",
      "source": [
        "#Project Breast Cancer Diagnosis \n",
        "*Emna Ben Kemla*\n",
        "\n",
        "\n",
        "*October 2022*"
      ],
      "metadata": {
        "id": "eLtb2NgCxt9I"
      }
    },
    {
      "cell_type": "markdown",
      "source": [
        "#Table of Contents\n",
        "1. Introduction\n",
        "2. Understanding Our Data\n",
        "3. Preprocessing\n",
        "4. Visualization\n",
        "5. Standardization \n",
        "6. Classification Models\n",
        "    * KNN \n",
        "    * Logistic Regression\n",
        "    * XGBOOST\n",
        "    *AdaBoost\n",
        "7. Models Accuracy Comparison\n",
        "8. Conclusion\n",
        "\n",
        "\n"
      ],
      "metadata": {
        "id": "Jt5DCkTBPDwx"
      }
    },
    {
      "cell_type": "markdown",
      "source": [
        "#Introduction"
      ],
      "metadata": {
        "id": "SEysrrGtQsuR"
      }
    },
    {
      "cell_type": "markdown",
      "source": [
        "**Breast Cancer Diagnosis**\n",
        "\n",
        "This project consists of an application of supervised machine learning classification models using the Breast Cancer Wisconsin (Diagnostic) Data Set.\n",
        "\n",
        "The purpose is to both raise awareness of breast cancer, which is the most commonly diagnosed cancer in women and it is the second leading cause of death among them, and its examination and early detection which can lead to better treatment options and better chance of survival; and highlight the importance of machine learning in healthcare.\n",
        "\n",
        "The Breast Cancer Wisconsin (Diagnostic) Data Set, which includes examples of cancer biopsies, will be used to detect whether the cancer diagnosis is \"Benign\" or \"Malignant\" by finding patterns and understanding relationships with the present laboratory measurements of digitized cell nucleis, through supervised machine learning classification algorithms. "
      ],
      "metadata": {
        "id": "55qA6A6XEIUX"
      }
    },
    {
      "cell_type": "markdown",
      "source": [
        "#Understanding our Data"
      ],
      "metadata": {
        "id": "_GtlXA1AZaSc"
      }
    },
    {
      "cell_type": "markdown",
      "source": [
        "Dataset Source:\n",
        "https://www.kaggle.com/datasets/uciml/breast-cancer-wisconsin-data\n",
        "\n",
        "The dataset can be found on UCI Machine Learning Repository: https://archive.ics.uci.edu/ml/datasets/Breast+Cancer+Wisconsin+%28Diagnostic%29.\n"
      ],
      "metadata": {
        "id": "x4ZRSFqoFwPI"
      }
    },
    {
      "cell_type": "code",
      "execution_count": null,
      "metadata": {
        "colab": {
          "base_uri": "https://localhost:8080/",
          "height": 73
        },
        "id": "LgBu-gKWCVdF",
        "outputId": "3a83400b-db19-4371-aa82-7da7c715c736"
      },
      "outputs": [
        {
          "output_type": "display_data",
          "data": {
            "text/plain": [
              "<IPython.core.display.HTML object>"
            ],
            "text/html": [
              "\n",
              "     <input type=\"file\" id=\"files-c428d871-5c67-45ea-9664-f48d5fe36037\" name=\"files[]\" multiple disabled\n",
              "        style=\"border:none\" />\n",
              "     <output id=\"result-c428d871-5c67-45ea-9664-f48d5fe36037\">\n",
              "      Upload widget is only available when the cell has been executed in the\n",
              "      current browser session. Please rerun this cell to enable.\n",
              "      </output>\n",
              "      <script>// Copyright 2017 Google LLC\n",
              "//\n",
              "// Licensed under the Apache License, Version 2.0 (the \"License\");\n",
              "// you may not use this file except in compliance with the License.\n",
              "// You may obtain a copy of the License at\n",
              "//\n",
              "//      http://www.apache.org/licenses/LICENSE-2.0\n",
              "//\n",
              "// Unless required by applicable law or agreed to in writing, software\n",
              "// distributed under the License is distributed on an \"AS IS\" BASIS,\n",
              "// WITHOUT WARRANTIES OR CONDITIONS OF ANY KIND, either express or implied.\n",
              "// See the License for the specific language governing permissions and\n",
              "// limitations under the License.\n",
              "\n",
              "/**\n",
              " * @fileoverview Helpers for google.colab Python module.\n",
              " */\n",
              "(function(scope) {\n",
              "function span(text, styleAttributes = {}) {\n",
              "  const element = document.createElement('span');\n",
              "  element.textContent = text;\n",
              "  for (const key of Object.keys(styleAttributes)) {\n",
              "    element.style[key] = styleAttributes[key];\n",
              "  }\n",
              "  return element;\n",
              "}\n",
              "\n",
              "// Max number of bytes which will be uploaded at a time.\n",
              "const MAX_PAYLOAD_SIZE = 100 * 1024;\n",
              "\n",
              "function _uploadFiles(inputId, outputId) {\n",
              "  const steps = uploadFilesStep(inputId, outputId);\n",
              "  const outputElement = document.getElementById(outputId);\n",
              "  // Cache steps on the outputElement to make it available for the next call\n",
              "  // to uploadFilesContinue from Python.\n",
              "  outputElement.steps = steps;\n",
              "\n",
              "  return _uploadFilesContinue(outputId);\n",
              "}\n",
              "\n",
              "// This is roughly an async generator (not supported in the browser yet),\n",
              "// where there are multiple asynchronous steps and the Python side is going\n",
              "// to poll for completion of each step.\n",
              "// This uses a Promise to block the python side on completion of each step,\n",
              "// then passes the result of the previous step as the input to the next step.\n",
              "function _uploadFilesContinue(outputId) {\n",
              "  const outputElement = document.getElementById(outputId);\n",
              "  const steps = outputElement.steps;\n",
              "\n",
              "  const next = steps.next(outputElement.lastPromiseValue);\n",
              "  return Promise.resolve(next.value.promise).then((value) => {\n",
              "    // Cache the last promise value to make it available to the next\n",
              "    // step of the generator.\n",
              "    outputElement.lastPromiseValue = value;\n",
              "    return next.value.response;\n",
              "  });\n",
              "}\n",
              "\n",
              "/**\n",
              " * Generator function which is called between each async step of the upload\n",
              " * process.\n",
              " * @param {string} inputId Element ID of the input file picker element.\n",
              " * @param {string} outputId Element ID of the output display.\n",
              " * @return {!Iterable<!Object>} Iterable of next steps.\n",
              " */\n",
              "function* uploadFilesStep(inputId, outputId) {\n",
              "  const inputElement = document.getElementById(inputId);\n",
              "  inputElement.disabled = false;\n",
              "\n",
              "  const outputElement = document.getElementById(outputId);\n",
              "  outputElement.innerHTML = '';\n",
              "\n",
              "  const pickedPromise = new Promise((resolve) => {\n",
              "    inputElement.addEventListener('change', (e) => {\n",
              "      resolve(e.target.files);\n",
              "    });\n",
              "  });\n",
              "\n",
              "  const cancel = document.createElement('button');\n",
              "  inputElement.parentElement.appendChild(cancel);\n",
              "  cancel.textContent = 'Cancel upload';\n",
              "  const cancelPromise = new Promise((resolve) => {\n",
              "    cancel.onclick = () => {\n",
              "      resolve(null);\n",
              "    };\n",
              "  });\n",
              "\n",
              "  // Wait for the user to pick the files.\n",
              "  const files = yield {\n",
              "    promise: Promise.race([pickedPromise, cancelPromise]),\n",
              "    response: {\n",
              "      action: 'starting',\n",
              "    }\n",
              "  };\n",
              "\n",
              "  cancel.remove();\n",
              "\n",
              "  // Disable the input element since further picks are not allowed.\n",
              "  inputElement.disabled = true;\n",
              "\n",
              "  if (!files) {\n",
              "    return {\n",
              "      response: {\n",
              "        action: 'complete',\n",
              "      }\n",
              "    };\n",
              "  }\n",
              "\n",
              "  for (const file of files) {\n",
              "    const li = document.createElement('li');\n",
              "    li.append(span(file.name, {fontWeight: 'bold'}));\n",
              "    li.append(span(\n",
              "        `(${file.type || 'n/a'}) - ${file.size} bytes, ` +\n",
              "        `last modified: ${\n",
              "            file.lastModifiedDate ? file.lastModifiedDate.toLocaleDateString() :\n",
              "                                    'n/a'} - `));\n",
              "    const percent = span('0% done');\n",
              "    li.appendChild(percent);\n",
              "\n",
              "    outputElement.appendChild(li);\n",
              "\n",
              "    const fileDataPromise = new Promise((resolve) => {\n",
              "      const reader = new FileReader();\n",
              "      reader.onload = (e) => {\n",
              "        resolve(e.target.result);\n",
              "      };\n",
              "      reader.readAsArrayBuffer(file);\n",
              "    });\n",
              "    // Wait for the data to be ready.\n",
              "    let fileData = yield {\n",
              "      promise: fileDataPromise,\n",
              "      response: {\n",
              "        action: 'continue',\n",
              "      }\n",
              "    };\n",
              "\n",
              "    // Use a chunked sending to avoid message size limits. See b/62115660.\n",
              "    let position = 0;\n",
              "    do {\n",
              "      const length = Math.min(fileData.byteLength - position, MAX_PAYLOAD_SIZE);\n",
              "      const chunk = new Uint8Array(fileData, position, length);\n",
              "      position += length;\n",
              "\n",
              "      const base64 = btoa(String.fromCharCode.apply(null, chunk));\n",
              "      yield {\n",
              "        response: {\n",
              "          action: 'append',\n",
              "          file: file.name,\n",
              "          data: base64,\n",
              "        },\n",
              "      };\n",
              "\n",
              "      let percentDone = fileData.byteLength === 0 ?\n",
              "          100 :\n",
              "          Math.round((position / fileData.byteLength) * 100);\n",
              "      percent.textContent = `${percentDone}% done`;\n",
              "\n",
              "    } while (position < fileData.byteLength);\n",
              "  }\n",
              "\n",
              "  // All done.\n",
              "  yield {\n",
              "    response: {\n",
              "      action: 'complete',\n",
              "    }\n",
              "  };\n",
              "}\n",
              "\n",
              "scope.google = scope.google || {};\n",
              "scope.google.colab = scope.google.colab || {};\n",
              "scope.google.colab._files = {\n",
              "  _uploadFiles,\n",
              "  _uploadFilesContinue,\n",
              "};\n",
              "})(self);\n",
              "</script> "
            ]
          },
          "metadata": {}
        },
        {
          "output_type": "stream",
          "name": "stdout",
          "text": [
            "Saving breast-cancer.csv to breast-cancer.csv\n"
          ]
        }
      ],
      "source": [
        " #importing the dataset from local drive\n",
        "from google.colab import files\n",
        "\n",
        "\n",
        "uploaded = files.upload()\n",
        "import pandas as pd\n",
        "import io\n",
        " \n",
        "df = pd.read_csv(io.BytesIO(uploaded['breast-cancer.csv']),sep=\",\")"
      ]
    },
    {
      "cell_type": "code",
      "source": [
        "df"
      ],
      "metadata": {
        "colab": {
          "base_uri": "https://localhost:8080/",
          "height": 505
        },
        "id": "lEZYKBHSC2ZD",
        "outputId": "159718a4-05e2-4a28-eb29-7b62d00e0046"
      },
      "execution_count": null,
      "outputs": [
        {
          "output_type": "execute_result",
          "data": {
            "text/plain": [
              "           id diagnosis  radius_mean  texture_mean  perimeter_mean  area_mean  \\\n",
              "0      842302         M        17.99         10.38          122.80     1001.0   \n",
              "1      842517         M        20.57         17.77          132.90     1326.0   \n",
              "2    84300903         M        19.69         21.25          130.00     1203.0   \n",
              "3    84348301         M        11.42         20.38           77.58      386.1   \n",
              "4    84358402         M        20.29         14.34          135.10     1297.0   \n",
              "..        ...       ...          ...           ...             ...        ...   \n",
              "564    926424         M        21.56         22.39          142.00     1479.0   \n",
              "565    926682         M        20.13         28.25          131.20     1261.0   \n",
              "566    926954         M        16.60         28.08          108.30      858.1   \n",
              "567    927241         M        20.60         29.33          140.10     1265.0   \n",
              "568     92751         B         7.76         24.54           47.92      181.0   \n",
              "\n",
              "     smoothness_mean  compactness_mean  concavity_mean  concave points_mean  \\\n",
              "0            0.11840           0.27760         0.30010              0.14710   \n",
              "1            0.08474           0.07864         0.08690              0.07017   \n",
              "2            0.10960           0.15990         0.19740              0.12790   \n",
              "3            0.14250           0.28390         0.24140              0.10520   \n",
              "4            0.10030           0.13280         0.19800              0.10430   \n",
              "..               ...               ...             ...                  ...   \n",
              "564          0.11100           0.11590         0.24390              0.13890   \n",
              "565          0.09780           0.10340         0.14400              0.09791   \n",
              "566          0.08455           0.10230         0.09251              0.05302   \n",
              "567          0.11780           0.27700         0.35140              0.15200   \n",
              "568          0.05263           0.04362         0.00000              0.00000   \n",
              "\n",
              "     ...  radius_worst  texture_worst  perimeter_worst  area_worst  \\\n",
              "0    ...        25.380          17.33           184.60      2019.0   \n",
              "1    ...        24.990          23.41           158.80      1956.0   \n",
              "2    ...        23.570          25.53           152.50      1709.0   \n",
              "3    ...        14.910          26.50            98.87       567.7   \n",
              "4    ...        22.540          16.67           152.20      1575.0   \n",
              "..   ...           ...            ...              ...         ...   \n",
              "564  ...        25.450          26.40           166.10      2027.0   \n",
              "565  ...        23.690          38.25           155.00      1731.0   \n",
              "566  ...        18.980          34.12           126.70      1124.0   \n",
              "567  ...        25.740          39.42           184.60      1821.0   \n",
              "568  ...         9.456          30.37            59.16       268.6   \n",
              "\n",
              "     smoothness_worst  compactness_worst  concavity_worst  \\\n",
              "0             0.16220            0.66560           0.7119   \n",
              "1             0.12380            0.18660           0.2416   \n",
              "2             0.14440            0.42450           0.4504   \n",
              "3             0.20980            0.86630           0.6869   \n",
              "4             0.13740            0.20500           0.4000   \n",
              "..                ...                ...              ...   \n",
              "564           0.14100            0.21130           0.4107   \n",
              "565           0.11660            0.19220           0.3215   \n",
              "566           0.11390            0.30940           0.3403   \n",
              "567           0.16500            0.86810           0.9387   \n",
              "568           0.08996            0.06444           0.0000   \n",
              "\n",
              "     concave points_worst  symmetry_worst  fractal_dimension_worst  \n",
              "0                  0.2654          0.4601                  0.11890  \n",
              "1                  0.1860          0.2750                  0.08902  \n",
              "2                  0.2430          0.3613                  0.08758  \n",
              "3                  0.2575          0.6638                  0.17300  \n",
              "4                  0.1625          0.2364                  0.07678  \n",
              "..                    ...             ...                      ...  \n",
              "564                0.2216          0.2060                  0.07115  \n",
              "565                0.1628          0.2572                  0.06637  \n",
              "566                0.1418          0.2218                  0.07820  \n",
              "567                0.2650          0.4087                  0.12400  \n",
              "568                0.0000          0.2871                  0.07039  \n",
              "\n",
              "[569 rows x 32 columns]"
            ],
            "text/html": [
              "\n",
              "  <div id=\"df-b901fd28-9e87-485f-867b-c0e522232ba3\">\n",
              "    <div class=\"colab-df-container\">\n",
              "      <div>\n",
              "<style scoped>\n",
              "    .dataframe tbody tr th:only-of-type {\n",
              "        vertical-align: middle;\n",
              "    }\n",
              "\n",
              "    .dataframe tbody tr th {\n",
              "        vertical-align: top;\n",
              "    }\n",
              "\n",
              "    .dataframe thead th {\n",
              "        text-align: right;\n",
              "    }\n",
              "</style>\n",
              "<table border=\"1\" class=\"dataframe\">\n",
              "  <thead>\n",
              "    <tr style=\"text-align: right;\">\n",
              "      <th></th>\n",
              "      <th>id</th>\n",
              "      <th>diagnosis</th>\n",
              "      <th>radius_mean</th>\n",
              "      <th>texture_mean</th>\n",
              "      <th>perimeter_mean</th>\n",
              "      <th>area_mean</th>\n",
              "      <th>smoothness_mean</th>\n",
              "      <th>compactness_mean</th>\n",
              "      <th>concavity_mean</th>\n",
              "      <th>concave points_mean</th>\n",
              "      <th>...</th>\n",
              "      <th>radius_worst</th>\n",
              "      <th>texture_worst</th>\n",
              "      <th>perimeter_worst</th>\n",
              "      <th>area_worst</th>\n",
              "      <th>smoothness_worst</th>\n",
              "      <th>compactness_worst</th>\n",
              "      <th>concavity_worst</th>\n",
              "      <th>concave points_worst</th>\n",
              "      <th>symmetry_worst</th>\n",
              "      <th>fractal_dimension_worst</th>\n",
              "    </tr>\n",
              "  </thead>\n",
              "  <tbody>\n",
              "    <tr>\n",
              "      <th>0</th>\n",
              "      <td>842302</td>\n",
              "      <td>M</td>\n",
              "      <td>17.99</td>\n",
              "      <td>10.38</td>\n",
              "      <td>122.80</td>\n",
              "      <td>1001.0</td>\n",
              "      <td>0.11840</td>\n",
              "      <td>0.27760</td>\n",
              "      <td>0.30010</td>\n",
              "      <td>0.14710</td>\n",
              "      <td>...</td>\n",
              "      <td>25.380</td>\n",
              "      <td>17.33</td>\n",
              "      <td>184.60</td>\n",
              "      <td>2019.0</td>\n",
              "      <td>0.16220</td>\n",
              "      <td>0.66560</td>\n",
              "      <td>0.7119</td>\n",
              "      <td>0.2654</td>\n",
              "      <td>0.4601</td>\n",
              "      <td>0.11890</td>\n",
              "    </tr>\n",
              "    <tr>\n",
              "      <th>1</th>\n",
              "      <td>842517</td>\n",
              "      <td>M</td>\n",
              "      <td>20.57</td>\n",
              "      <td>17.77</td>\n",
              "      <td>132.90</td>\n",
              "      <td>1326.0</td>\n",
              "      <td>0.08474</td>\n",
              "      <td>0.07864</td>\n",
              "      <td>0.08690</td>\n",
              "      <td>0.07017</td>\n",
              "      <td>...</td>\n",
              "      <td>24.990</td>\n",
              "      <td>23.41</td>\n",
              "      <td>158.80</td>\n",
              "      <td>1956.0</td>\n",
              "      <td>0.12380</td>\n",
              "      <td>0.18660</td>\n",
              "      <td>0.2416</td>\n",
              "      <td>0.1860</td>\n",
              "      <td>0.2750</td>\n",
              "      <td>0.08902</td>\n",
              "    </tr>\n",
              "    <tr>\n",
              "      <th>2</th>\n",
              "      <td>84300903</td>\n",
              "      <td>M</td>\n",
              "      <td>19.69</td>\n",
              "      <td>21.25</td>\n",
              "      <td>130.00</td>\n",
              "      <td>1203.0</td>\n",
              "      <td>0.10960</td>\n",
              "      <td>0.15990</td>\n",
              "      <td>0.19740</td>\n",
              "      <td>0.12790</td>\n",
              "      <td>...</td>\n",
              "      <td>23.570</td>\n",
              "      <td>25.53</td>\n",
              "      <td>152.50</td>\n",
              "      <td>1709.0</td>\n",
              "      <td>0.14440</td>\n",
              "      <td>0.42450</td>\n",
              "      <td>0.4504</td>\n",
              "      <td>0.2430</td>\n",
              "      <td>0.3613</td>\n",
              "      <td>0.08758</td>\n",
              "    </tr>\n",
              "    <tr>\n",
              "      <th>3</th>\n",
              "      <td>84348301</td>\n",
              "      <td>M</td>\n",
              "      <td>11.42</td>\n",
              "      <td>20.38</td>\n",
              "      <td>77.58</td>\n",
              "      <td>386.1</td>\n",
              "      <td>0.14250</td>\n",
              "      <td>0.28390</td>\n",
              "      <td>0.24140</td>\n",
              "      <td>0.10520</td>\n",
              "      <td>...</td>\n",
              "      <td>14.910</td>\n",
              "      <td>26.50</td>\n",
              "      <td>98.87</td>\n",
              "      <td>567.7</td>\n",
              "      <td>0.20980</td>\n",
              "      <td>0.86630</td>\n",
              "      <td>0.6869</td>\n",
              "      <td>0.2575</td>\n",
              "      <td>0.6638</td>\n",
              "      <td>0.17300</td>\n",
              "    </tr>\n",
              "    <tr>\n",
              "      <th>4</th>\n",
              "      <td>84358402</td>\n",
              "      <td>M</td>\n",
              "      <td>20.29</td>\n",
              "      <td>14.34</td>\n",
              "      <td>135.10</td>\n",
              "      <td>1297.0</td>\n",
              "      <td>0.10030</td>\n",
              "      <td>0.13280</td>\n",
              "      <td>0.19800</td>\n",
              "      <td>0.10430</td>\n",
              "      <td>...</td>\n",
              "      <td>22.540</td>\n",
              "      <td>16.67</td>\n",
              "      <td>152.20</td>\n",
              "      <td>1575.0</td>\n",
              "      <td>0.13740</td>\n",
              "      <td>0.20500</td>\n",
              "      <td>0.4000</td>\n",
              "      <td>0.1625</td>\n",
              "      <td>0.2364</td>\n",
              "      <td>0.07678</td>\n",
              "    </tr>\n",
              "    <tr>\n",
              "      <th>...</th>\n",
              "      <td>...</td>\n",
              "      <td>...</td>\n",
              "      <td>...</td>\n",
              "      <td>...</td>\n",
              "      <td>...</td>\n",
              "      <td>...</td>\n",
              "      <td>...</td>\n",
              "      <td>...</td>\n",
              "      <td>...</td>\n",
              "      <td>...</td>\n",
              "      <td>...</td>\n",
              "      <td>...</td>\n",
              "      <td>...</td>\n",
              "      <td>...</td>\n",
              "      <td>...</td>\n",
              "      <td>...</td>\n",
              "      <td>...</td>\n",
              "      <td>...</td>\n",
              "      <td>...</td>\n",
              "      <td>...</td>\n",
              "      <td>...</td>\n",
              "    </tr>\n",
              "    <tr>\n",
              "      <th>564</th>\n",
              "      <td>926424</td>\n",
              "      <td>M</td>\n",
              "      <td>21.56</td>\n",
              "      <td>22.39</td>\n",
              "      <td>142.00</td>\n",
              "      <td>1479.0</td>\n",
              "      <td>0.11100</td>\n",
              "      <td>0.11590</td>\n",
              "      <td>0.24390</td>\n",
              "      <td>0.13890</td>\n",
              "      <td>...</td>\n",
              "      <td>25.450</td>\n",
              "      <td>26.40</td>\n",
              "      <td>166.10</td>\n",
              "      <td>2027.0</td>\n",
              "      <td>0.14100</td>\n",
              "      <td>0.21130</td>\n",
              "      <td>0.4107</td>\n",
              "      <td>0.2216</td>\n",
              "      <td>0.2060</td>\n",
              "      <td>0.07115</td>\n",
              "    </tr>\n",
              "    <tr>\n",
              "      <th>565</th>\n",
              "      <td>926682</td>\n",
              "      <td>M</td>\n",
              "      <td>20.13</td>\n",
              "      <td>28.25</td>\n",
              "      <td>131.20</td>\n",
              "      <td>1261.0</td>\n",
              "      <td>0.09780</td>\n",
              "      <td>0.10340</td>\n",
              "      <td>0.14400</td>\n",
              "      <td>0.09791</td>\n",
              "      <td>...</td>\n",
              "      <td>23.690</td>\n",
              "      <td>38.25</td>\n",
              "      <td>155.00</td>\n",
              "      <td>1731.0</td>\n",
              "      <td>0.11660</td>\n",
              "      <td>0.19220</td>\n",
              "      <td>0.3215</td>\n",
              "      <td>0.1628</td>\n",
              "      <td>0.2572</td>\n",
              "      <td>0.06637</td>\n",
              "    </tr>\n",
              "    <tr>\n",
              "      <th>566</th>\n",
              "      <td>926954</td>\n",
              "      <td>M</td>\n",
              "      <td>16.60</td>\n",
              "      <td>28.08</td>\n",
              "      <td>108.30</td>\n",
              "      <td>858.1</td>\n",
              "      <td>0.08455</td>\n",
              "      <td>0.10230</td>\n",
              "      <td>0.09251</td>\n",
              "      <td>0.05302</td>\n",
              "      <td>...</td>\n",
              "      <td>18.980</td>\n",
              "      <td>34.12</td>\n",
              "      <td>126.70</td>\n",
              "      <td>1124.0</td>\n",
              "      <td>0.11390</td>\n",
              "      <td>0.30940</td>\n",
              "      <td>0.3403</td>\n",
              "      <td>0.1418</td>\n",
              "      <td>0.2218</td>\n",
              "      <td>0.07820</td>\n",
              "    </tr>\n",
              "    <tr>\n",
              "      <th>567</th>\n",
              "      <td>927241</td>\n",
              "      <td>M</td>\n",
              "      <td>20.60</td>\n",
              "      <td>29.33</td>\n",
              "      <td>140.10</td>\n",
              "      <td>1265.0</td>\n",
              "      <td>0.11780</td>\n",
              "      <td>0.27700</td>\n",
              "      <td>0.35140</td>\n",
              "      <td>0.15200</td>\n",
              "      <td>...</td>\n",
              "      <td>25.740</td>\n",
              "      <td>39.42</td>\n",
              "      <td>184.60</td>\n",
              "      <td>1821.0</td>\n",
              "      <td>0.16500</td>\n",
              "      <td>0.86810</td>\n",
              "      <td>0.9387</td>\n",
              "      <td>0.2650</td>\n",
              "      <td>0.4087</td>\n",
              "      <td>0.12400</td>\n",
              "    </tr>\n",
              "    <tr>\n",
              "      <th>568</th>\n",
              "      <td>92751</td>\n",
              "      <td>B</td>\n",
              "      <td>7.76</td>\n",
              "      <td>24.54</td>\n",
              "      <td>47.92</td>\n",
              "      <td>181.0</td>\n",
              "      <td>0.05263</td>\n",
              "      <td>0.04362</td>\n",
              "      <td>0.00000</td>\n",
              "      <td>0.00000</td>\n",
              "      <td>...</td>\n",
              "      <td>9.456</td>\n",
              "      <td>30.37</td>\n",
              "      <td>59.16</td>\n",
              "      <td>268.6</td>\n",
              "      <td>0.08996</td>\n",
              "      <td>0.06444</td>\n",
              "      <td>0.0000</td>\n",
              "      <td>0.0000</td>\n",
              "      <td>0.2871</td>\n",
              "      <td>0.07039</td>\n",
              "    </tr>\n",
              "  </tbody>\n",
              "</table>\n",
              "<p>569 rows × 32 columns</p>\n",
              "</div>\n",
              "      <button class=\"colab-df-convert\" onclick=\"convertToInteractive('df-b901fd28-9e87-485f-867b-c0e522232ba3')\"\n",
              "              title=\"Convert this dataframe to an interactive table.\"\n",
              "              style=\"display:none;\">\n",
              "        \n",
              "  <svg xmlns=\"http://www.w3.org/2000/svg\" height=\"24px\"viewBox=\"0 0 24 24\"\n",
              "       width=\"24px\">\n",
              "    <path d=\"M0 0h24v24H0V0z\" fill=\"none\"/>\n",
              "    <path d=\"M18.56 5.44l.94 2.06.94-2.06 2.06-.94-2.06-.94-.94-2.06-.94 2.06-2.06.94zm-11 1L8.5 8.5l.94-2.06 2.06-.94-2.06-.94L8.5 2.5l-.94 2.06-2.06.94zm10 10l.94 2.06.94-2.06 2.06-.94-2.06-.94-.94-2.06-.94 2.06-2.06.94z\"/><path d=\"M17.41 7.96l-1.37-1.37c-.4-.4-.92-.59-1.43-.59-.52 0-1.04.2-1.43.59L10.3 9.45l-7.72 7.72c-.78.78-.78 2.05 0 2.83L4 21.41c.39.39.9.59 1.41.59.51 0 1.02-.2 1.41-.59l7.78-7.78 2.81-2.81c.8-.78.8-2.07 0-2.86zM5.41 20L4 18.59l7.72-7.72 1.47 1.35L5.41 20z\"/>\n",
              "  </svg>\n",
              "      </button>\n",
              "      \n",
              "  <style>\n",
              "    .colab-df-container {\n",
              "      display:flex;\n",
              "      flex-wrap:wrap;\n",
              "      gap: 12px;\n",
              "    }\n",
              "\n",
              "    .colab-df-convert {\n",
              "      background-color: #E8F0FE;\n",
              "      border: none;\n",
              "      border-radius: 50%;\n",
              "      cursor: pointer;\n",
              "      display: none;\n",
              "      fill: #1967D2;\n",
              "      height: 32px;\n",
              "      padding: 0 0 0 0;\n",
              "      width: 32px;\n",
              "    }\n",
              "\n",
              "    .colab-df-convert:hover {\n",
              "      background-color: #E2EBFA;\n",
              "      box-shadow: 0px 1px 2px rgba(60, 64, 67, 0.3), 0px 1px 3px 1px rgba(60, 64, 67, 0.15);\n",
              "      fill: #174EA6;\n",
              "    }\n",
              "\n",
              "    [theme=dark] .colab-df-convert {\n",
              "      background-color: #3B4455;\n",
              "      fill: #D2E3FC;\n",
              "    }\n",
              "\n",
              "    [theme=dark] .colab-df-convert:hover {\n",
              "      background-color: #434B5C;\n",
              "      box-shadow: 0px 1px 3px 1px rgba(0, 0, 0, 0.15);\n",
              "      filter: drop-shadow(0px 1px 2px rgba(0, 0, 0, 0.3));\n",
              "      fill: #FFFFFF;\n",
              "    }\n",
              "  </style>\n",
              "\n",
              "      <script>\n",
              "        const buttonEl =\n",
              "          document.querySelector('#df-b901fd28-9e87-485f-867b-c0e522232ba3 button.colab-df-convert');\n",
              "        buttonEl.style.display =\n",
              "          google.colab.kernel.accessAllowed ? 'block' : 'none';\n",
              "\n",
              "        async function convertToInteractive(key) {\n",
              "          const element = document.querySelector('#df-b901fd28-9e87-485f-867b-c0e522232ba3');\n",
              "          const dataTable =\n",
              "            await google.colab.kernel.invokeFunction('convertToInteractive',\n",
              "                                                     [key], {});\n",
              "          if (!dataTable) return;\n",
              "\n",
              "          const docLinkHtml = 'Like what you see? Visit the ' +\n",
              "            '<a target=\"_blank\" href=https://colab.research.google.com/notebooks/data_table.ipynb>data table notebook</a>'\n",
              "            + ' to learn more about interactive tables.';\n",
              "          element.innerHTML = '';\n",
              "          dataTable['output_type'] = 'display_data';\n",
              "          await google.colab.output.renderOutput(dataTable, element);\n",
              "          const docLink = document.createElement('div');\n",
              "          docLink.innerHTML = docLinkHtml;\n",
              "          element.appendChild(docLink);\n",
              "        }\n",
              "      </script>\n",
              "    </div>\n",
              "  </div>\n",
              "  "
            ]
          },
          "metadata": {},
          "execution_count": 2
        }
      ]
    },
    {
      "cell_type": "markdown",
      "source": [
        "The variables in the dataset are:\n",
        "\"id\" which is a unique numeric identifier for each patient in the data \"Diagnois\" which describes whether the tumor is diagnosed as \"B\" to indicate Benign (non cancerous) or \"M\" to indicate Melignant(non cancerous). \n",
        "The 30 real value variables describe 10 characteristics of a cell nuclei present in a digitized image of a fine needle aspirate (FNA) biopsy of a breast lump which are:\n",
        "1 radius (mean of distances from center to points on the perimeter)\n",
        "2 texture(standard deviation of gray-scale values)\n",
        "3 perimeter\n",
        "4 area\n",
        "5 smoothness (local variation in radius lengths)\n",
        "6 compactness(perimeter^2 / area - 1.0)\n",
        "7 concavity(severity of concave portions of the contour)\n",
        "8 concave points(number of concave portions of the contour)\n",
        "9 symmetry\n",
        "10 fractal_dimension(\"coastline approximation\" - 1)\n",
        "\n",
        "and the **mean**, **standard error** and **worst(mean of the three\n",
        "largest values)** of these characteristics were computed for each image,\n",
        "resulting in 30 features."
      ],
      "metadata": {
        "id": "eC82DGLdML_t"
      }
    },
    {
      "cell_type": "markdown",
      "source": [
        "The variable id cannot be used for classification and the variable Diagnosis is our target"
      ],
      "metadata": {
        "id": "3yg5NMMYCXGI"
      }
    },
    {
      "cell_type": "code",
      "source": [
        "print(\"The number of observations is: \",len(df))\n",
        "print(\"The number of features is: \",len(df.columns)-2)  \n",
        "print(\"they are: \")\n",
        "f_names=[] #list of feature names\n",
        "c=-1\n",
        "for i in df:\n",
        "    c+=1\n",
        "    if c>1:\n",
        "      print(c-1,i)\n",
        "      f_names.append(i)\n",
        "print(\"\\n\")\n",
        "print(\"The target is 'Diagnosis'\")"
      ],
      "metadata": {
        "colab": {
          "base_uri": "https://localhost:8080/"
        },
        "id": "c5s5oNkACx4L",
        "outputId": "34d54c6e-6910-4291-bc70-d156e51743ca"
      },
      "execution_count": null,
      "outputs": [
        {
          "output_type": "stream",
          "name": "stdout",
          "text": [
            "The number of observations is:  569\n",
            "The number of features is:  29\n",
            "they are: \n",
            "1 texture_mean\n",
            "2 perimeter_mean\n",
            "3 area_mean\n",
            "4 smoothness_mean\n",
            "5 compactness_mean\n",
            "6 concavity_mean\n",
            "7 concave points_mean\n",
            "8 symmetry_mean\n",
            "9 fractal_dimension_mean\n",
            "10 radius_se\n",
            "11 texture_se\n",
            "12 perimeter_se\n",
            "13 area_se\n",
            "14 smoothness_se\n",
            "15 compactness_se\n",
            "16 concavity_se\n",
            "17 concave points_se\n",
            "18 symmetry_se\n",
            "19 fractal_dimension_se\n",
            "20 radius_worst\n",
            "21 texture_worst\n",
            "22 perimeter_worst\n",
            "23 area_worst\n",
            "24 smoothness_worst\n",
            "25 compactness_worst\n",
            "26 concavity_worst\n",
            "27 concave points_worst\n",
            "28 symmetry_worst\n",
            "29 fractal_dimension_worst\n",
            "\n",
            "\n",
            "The target is 'Diagnosis'\n"
          ]
        }
      ]
    },
    {
      "cell_type": "markdown",
      "source": [
        "#Preprocessing"
      ],
      "metadata": {
        "id": "E7lxMfj-eBfY"
      }
    },
    {
      "cell_type": "markdown",
      "source": [
        "We will drop the variable id, since we won't be needing it for prediction."
      ],
      "metadata": {
        "id": "tfEtRytnFKgW"
      }
    },
    {
      "cell_type": "code",
      "source": [
        "df.drop('id', inplace=True, axis=1)"
      ],
      "metadata": {
        "id": "dAybFOrWFODy"
      },
      "execution_count": null,
      "outputs": []
    },
    {
      "cell_type": "code",
      "source": [
        "#Variables and the number of null values\n",
        "df.isnull().sum()"
      ],
      "metadata": {
        "colab": {
          "base_uri": "https://localhost:8080/"
        },
        "id": "tespD1EIFjyh",
        "outputId": "3cfb1a01-9f3c-4a9b-8c21-39aeb4896f4e"
      },
      "execution_count": null,
      "outputs": [
        {
          "output_type": "execute_result",
          "data": {
            "text/plain": [
              "diagnosis                  0\n",
              "radius_mean                0\n",
              "texture_mean               0\n",
              "perimeter_mean             0\n",
              "area_mean                  0\n",
              "smoothness_mean            0\n",
              "compactness_mean           0\n",
              "concavity_mean             0\n",
              "concave points_mean        0\n",
              "symmetry_mean              0\n",
              "fractal_dimension_mean     0\n",
              "radius_se                  0\n",
              "texture_se                 0\n",
              "perimeter_se               0\n",
              "area_se                    0\n",
              "smoothness_se              0\n",
              "compactness_se             0\n",
              "concavity_se               0\n",
              "concave points_se          0\n",
              "symmetry_se                0\n",
              "fractal_dimension_se       0\n",
              "radius_worst               0\n",
              "texture_worst              0\n",
              "perimeter_worst            0\n",
              "area_worst                 0\n",
              "smoothness_worst           0\n",
              "compactness_worst          0\n",
              "concavity_worst            0\n",
              "concave points_worst       0\n",
              "symmetry_worst             0\n",
              "fractal_dimension_worst    0\n",
              "dtype: int64"
            ]
          },
          "metadata": {},
          "execution_count": 5
        }
      ]
    },
    {
      "cell_type": "code",
      "source": [
        "print(\"The number of null values in the dataset is: \", df.isnull().sum().sum())"
      ],
      "metadata": {
        "colab": {
          "base_uri": "https://localhost:8080/"
        },
        "id": "ok61scBAHRFj",
        "outputId": "7f9b27da-a024-4d91-8be4-f923f258044b"
      },
      "execution_count": null,
      "outputs": [
        {
          "output_type": "stream",
          "name": "stdout",
          "text": [
            "The number of null values in the dataset is:  0\n"
          ]
        }
      ]
    },
    {
      "cell_type": "code",
      "source": [
        "#showing information about our variables\n",
        "df.info()"
      ],
      "metadata": {
        "colab": {
          "base_uri": "https://localhost:8080/"
        },
        "id": "FYg7QRchFa5W",
        "outputId": "9977833f-3222-4bdf-c387-25098c4aaaf9"
      },
      "execution_count": null,
      "outputs": [
        {
          "output_type": "stream",
          "name": "stdout",
          "text": [
            "<class 'pandas.core.frame.DataFrame'>\n",
            "RangeIndex: 569 entries, 0 to 568\n",
            "Data columns (total 31 columns):\n",
            " #   Column                   Non-Null Count  Dtype  \n",
            "---  ------                   --------------  -----  \n",
            " 0   diagnosis                569 non-null    object \n",
            " 1   radius_mean              569 non-null    float64\n",
            " 2   texture_mean             569 non-null    float64\n",
            " 3   perimeter_mean           569 non-null    float64\n",
            " 4   area_mean                569 non-null    float64\n",
            " 5   smoothness_mean          569 non-null    float64\n",
            " 6   compactness_mean         569 non-null    float64\n",
            " 7   concavity_mean           569 non-null    float64\n",
            " 8   concave points_mean      569 non-null    float64\n",
            " 9   symmetry_mean            569 non-null    float64\n",
            " 10  fractal_dimension_mean   569 non-null    float64\n",
            " 11  radius_se                569 non-null    float64\n",
            " 12  texture_se               569 non-null    float64\n",
            " 13  perimeter_se             569 non-null    float64\n",
            " 14  area_se                  569 non-null    float64\n",
            " 15  smoothness_se            569 non-null    float64\n",
            " 16  compactness_se           569 non-null    float64\n",
            " 17  concavity_se             569 non-null    float64\n",
            " 18  concave points_se        569 non-null    float64\n",
            " 19  symmetry_se              569 non-null    float64\n",
            " 20  fractal_dimension_se     569 non-null    float64\n",
            " 21  radius_worst             569 non-null    float64\n",
            " 22  texture_worst            569 non-null    float64\n",
            " 23  perimeter_worst          569 non-null    float64\n",
            " 24  area_worst               569 non-null    float64\n",
            " 25  smoothness_worst         569 non-null    float64\n",
            " 26  compactness_worst        569 non-null    float64\n",
            " 27  concavity_worst          569 non-null    float64\n",
            " 28  concave points_worst     569 non-null    float64\n",
            " 29  symmetry_worst           569 non-null    float64\n",
            " 30  fractal_dimension_worst  569 non-null    float64\n",
            "dtypes: float64(30), object(1)\n",
            "memory usage: 137.9+ KB\n"
          ]
        }
      ]
    },
    {
      "cell_type": "markdown",
      "source": [
        "The target \"Diagnosis\" is the only categorical variable that we have in the dataset ."
      ],
      "metadata": {
        "id": "cNk_phuJUPRL"
      }
    },
    {
      "cell_type": "code",
      "source": [
        "df[\"diagnosis\"].value_counts()"
      ],
      "metadata": {
        "colab": {
          "base_uri": "https://localhost:8080/"
        },
        "id": "9iWJJ8XKJtvs",
        "outputId": "a7878ad9-6bf0-49d5-ee2e-1173197eb295"
      },
      "execution_count": null,
      "outputs": [
        {
          "output_type": "execute_result",
          "data": {
            "text/plain": [
              "B    357\n",
              "M    212\n",
              "Name: diagnosis, dtype: int64"
            ]
          },
          "metadata": {},
          "execution_count": 8
        }
      ]
    },
    {
      "cell_type": "markdown",
      "source": [
        "The target variable has two values B for Benign and M for Malignant.\n",
        "We will turn the target into a numerical variable using one label encoder, where the value B takes the number 0, and M takes the number 1."
      ],
      "metadata": {
        "id": "Y1Kg-ghEJEo0"
      }
    },
    {
      "cell_type": "code",
      "source": [
        "df.replace({'diagnosis':{'B': 0,'M':1}},inplace=True)"
      ],
      "metadata": {
        "id": "Ib14OBvqF6MJ"
      },
      "execution_count": null,
      "outputs": []
    },
    {
      "cell_type": "code",
      "source": [
        "df[\"diagnosis\"].value_counts()"
      ],
      "metadata": {
        "colab": {
          "base_uri": "https://localhost:8080/"
        },
        "id": "cKXRSOo9dytk",
        "outputId": "5c62dfbd-9904-45d2-afea-66f5846af75e"
      },
      "execution_count": null,
      "outputs": [
        {
          "output_type": "execute_result",
          "data": {
            "text/plain": [
              "0    357\n",
              "1    212\n",
              "Name: diagnosis, dtype: int64"
            ]
          },
          "metadata": {},
          "execution_count": 37
        }
      ]
    },
    {
      "cell_type": "markdown",
      "source": [
        "#Visualization "
      ],
      "metadata": {
        "id": "b1O4iTxdRpnE"
      }
    },
    {
      "cell_type": "markdown",
      "source": [
        "In this section we will show the distribution of our target variable \"diagnosis\", the distributions of the features that have high correlation with the target ,and plot these correlations.\n"
      ],
      "metadata": {
        "id": "BVM-orOERuYK"
      }
    },
    {
      "cell_type": "code",
      "source": [
        "#Importing visualization libraries\n",
        "import seaborn as sns\n",
        "import matplotlib.pyplot as plt"
      ],
      "metadata": {
        "id": "daOIv3NeG9e3"
      },
      "execution_count": null,
      "outputs": []
    },
    {
      "cell_type": "code",
      "source": [
        "#Distribution of the variable Diagnosis\n",
        "vc=df[\"diagnosis\"].value_counts()\n",
        "vc.plot.bar(color='hotpink')\n",
        "plt.xlabel(\"diagnosis\")\n",
        "plt.title(\"Distribution of the variable Diagnosis\")"
      ],
      "metadata": {
        "colab": {
          "base_uri": "https://localhost:8080/",
          "height": 311
        },
        "id": "hZ0KFyk8H0tb",
        "outputId": "08149ed4-75fa-4186-c1f9-3a6e53491f65"
      },
      "execution_count": null,
      "outputs": [
        {
          "output_type": "execute_result",
          "data": {
            "text/plain": [
              "Text(0.5, 1.0, 'Distribution of the variable Diagnosis')"
            ]
          },
          "metadata": {},
          "execution_count": 13
        },
        {
          "output_type": "display_data",
          "data": {
            "text/plain": [
              "<Figure size 432x288 with 1 Axes>"
            ],
            "image/png": "[encoded data removed]"
          },
          "metadata": {
            "needs_background": "light"
          }
        }
      ]
    },
    {
      "cell_type": "markdown",
      "source": [
        "The number of observations diagnosed as benign (357) exceeds the number of observations diagnosed as malignant (212).\n",
        "\n"
      ],
      "metadata": {
        "id": "sUsMzOQbJw7t"
      }
    },
    {
      "cell_type": "code",
      "source": [
        "#Showing correlations with the target diagnosis\n",
        "correl=df.corr()\n",
        "pr_cr=correl.iloc[0:1,0::]\n",
        "\n",
        "pr_cr\n",
        "s , ax = plt.subplots( figsize =( 20 , 40 ) )\n",
        "s = sns.heatmap(pr_cr,cmap =\"PiYG\",square=True,cbar_kws={ 'shrink' : .1 },  ax=ax,  annot = True,  annot_kws = { 'fontsize' : 8} )"
      ],
      "metadata": {
        "colab": {
          "base_uri": "https://localhost:8080/",
          "height": 288
        },
        "id": "RmuxvwZ6QNxD",
        "outputId": "83b3ba50-d8f5-40ec-bac6-4bb02c5c1363"
      },
      "execution_count": null,
      "outputs": [
        {
          "output_type": "display_data",
          "data": {
            "text/plain": [
              "<Figure size 1440x2880 with 2 Axes>"
            ],
            "image/png": "[encoded data removed]"
          },
          "metadata": {
            "needs_background": "light"
          }
        }
      ]
    },
    {
      "cell_type": "code",
      "source": [
        "#Features highly correlated with the target\n",
        "high_corr=[] #list of names of features highly correlated with the target\n",
        "print(\"The features that are highly correlated with the target Diagnosis (correlation >0.7) are:\"+\"\\n\")\n",
        "n=0\n",
        "for i in pr_cr:\n",
        "  for j in pr_cr[i]:\n",
        "    if abs(j) >0.7 and abs(j)<1:\n",
        "      n+=1\n",
        "      print(str(n)+\" \"+i)\n",
        "      high_corr.append(i)\n",
        "\n"
      ],
      "metadata": {
        "colab": {
          "base_uri": "https://localhost:8080/"
        },
        "id": "uLFOYoNIKc9b",
        "outputId": "1c7516c6-a382-4339-9f94-8bb212f363bb"
      },
      "execution_count": null,
      "outputs": [
        {
          "output_type": "stream",
          "name": "stdout",
          "text": [
            "The features that are highly correlated with the target Diagnosis (correlation >0.7) are:\n",
            "\n",
            "1 perimeter_mean\n",
            "2 area_mean\n",
            "3 concave points_mean\n",
            "4 area_se\n",
            "5 radius_worst\n",
            "6 perimeter_worst\n",
            "7 area_worst\n",
            "8 concave points_worst\n"
          ]
        }
      ]
    },
    {
      "cell_type": "code",
      "source": [
        "#Distribution of these feature variables\n",
        "df[high_corr].describe()"
      ],
      "metadata": {
        "colab": {
          "base_uri": "https://localhost:8080/",
          "height": 300
        },
        "id": "_d6g35IuQ5sk",
        "outputId": "a2184737-eaa7-4773-e651-39d2996738fb"
      },
      "execution_count": null,
      "outputs": [
        {
          "output_type": "execute_result",
          "data": {
            "text/plain": [
              "       perimeter_mean    area_mean  concave points_mean     area_se  \\\n",
              "count      569.000000   569.000000           569.000000  569.000000   \n",
              "mean        91.969033   654.889104             0.048919   40.337079   \n",
              "std         24.298981   351.914129             0.038803   45.491006   \n",
              "min         43.790000   143.500000             0.000000    6.802000   \n",
              "25%         75.170000   420.300000             0.020310   17.850000   \n",
              "50%         86.240000   551.100000             0.033500   24.530000   \n",
              "75%        104.100000   782.700000             0.074000   45.190000   \n",
              "max        188.500000  2501.000000             0.201200  542.200000   \n",
              "\n",
              "       radius_worst  perimeter_worst   area_worst  concave points_worst  \n",
              "count    569.000000       569.000000   569.000000            569.000000  \n",
              "mean      16.269190       107.261213   880.583128              0.114606  \n",
              "std        4.833242        33.602542   569.356993              0.065732  \n",
              "min        7.930000        50.410000   185.200000              0.000000  \n",
              "25%       13.010000        84.110000   515.300000              0.064930  \n",
              "50%       14.970000        97.660000   686.500000              0.099930  \n",
              "75%       18.790000       125.400000  1084.000000              0.161400  \n",
              "max       36.040000       251.200000  4254.000000              0.291000  "
            ],
            "text/html": [
              "\n",
              "  <div id=\"df-5c6d9a2e-1b1a-441a-8842-0453bbed59eb\">\n",
              "    <div class=\"colab-df-container\">\n",
              "      <div>\n",
              "<style scoped>\n",
              "    .dataframe tbody tr th:only-of-type {\n",
              "        vertical-align: middle;\n",
              "    }\n",
              "\n",
              "    .dataframe tbody tr th {\n",
              "        vertical-align: top;\n",
              "    }\n",
              "\n",
              "    .dataframe thead th {\n",
              "        text-align: right;\n",
              "    }\n",
              "</style>\n",
              "<table border=\"1\" class=\"dataframe\">\n",
              "  <thead>\n",
              "    <tr style=\"text-align: right;\">\n",
              "      <th></th>\n",
              "      <th>perimeter_mean</th>\n",
              "      <th>area_mean</th>\n",
              "      <th>concave points_mean</th>\n",
              "      <th>area_se</th>\n",
              "      <th>radius_worst</th>\n",
              "      <th>perimeter_worst</th>\n",
              "      <th>area_worst</th>\n",
              "      <th>concave points_worst</th>\n",
              "    </tr>\n",
              "  </thead>\n",
              "  <tbody>\n",
              "    <tr>\n",
              "      <th>count</th>\n",
              "      <td>569.000000</td>\n",
              "      <td>569.000000</td>\n",
              "      <td>569.000000</td>\n",
              "      <td>569.000000</td>\n",
              "      <td>569.000000</td>\n",
              "      <td>569.000000</td>\n",
              "      <td>569.000000</td>\n",
              "      <td>569.000000</td>\n",
              "    </tr>\n",
              "    <tr>\n",
              "      <th>mean</th>\n",
              "      <td>91.969033</td>\n",
              "      <td>654.889104</td>\n",
              "      <td>0.048919</td>\n",
              "      <td>40.337079</td>\n",
              "      <td>16.269190</td>\n",
              "      <td>107.261213</td>\n",
              "      <td>880.583128</td>\n",
              "      <td>0.114606</td>\n",
              "    </tr>\n",
              "    <tr>\n",
              "      <th>std</th>\n",
              "      <td>24.298981</td>\n",
              "      <td>351.914129</td>\n",
              "      <td>0.038803</td>\n",
              "      <td>45.491006</td>\n",
              "      <td>4.833242</td>\n",
              "      <td>33.602542</td>\n",
              "      <td>569.356993</td>\n",
              "      <td>0.065732</td>\n",
              "    </tr>\n",
              "    <tr>\n",
              "      <th>min</th>\n",
              "      <td>43.790000</td>\n",
              "      <td>143.500000</td>\n",
              "      <td>0.000000</td>\n",
              "      <td>6.802000</td>\n",
              "      <td>7.930000</td>\n",
              "      <td>50.410000</td>\n",
              "      <td>185.200000</td>\n",
              "      <td>0.000000</td>\n",
              "    </tr>\n",
              "    <tr>\n",
              "      <th>25%</th>\n",
              "      <td>75.170000</td>\n",
              "      <td>420.300000</td>\n",
              "      <td>0.020310</td>\n",
              "      <td>17.850000</td>\n",
              "      <td>13.010000</td>\n",
              "      <td>84.110000</td>\n",
              "      <td>515.300000</td>\n",
              "      <td>0.064930</td>\n",
              "    </tr>\n",
              "    <tr>\n",
              "      <th>50%</th>\n",
              "      <td>86.240000</td>\n",
              "      <td>551.100000</td>\n",
              "      <td>0.033500</td>\n",
              "      <td>24.530000</td>\n",
              "      <td>14.970000</td>\n",
              "      <td>97.660000</td>\n",
              "      <td>686.500000</td>\n",
              "      <td>0.099930</td>\n",
              "    </tr>\n",
              "    <tr>\n",
              "      <th>75%</th>\n",
              "      <td>104.100000</td>\n",
              "      <td>782.700000</td>\n",
              "      <td>0.074000</td>\n",
              "      <td>45.190000</td>\n",
              "      <td>18.790000</td>\n",
              "      <td>125.400000</td>\n",
              "      <td>1084.000000</td>\n",
              "      <td>0.161400</td>\n",
              "    </tr>\n",
              "    <tr>\n",
              "      <th>max</th>\n",
              "      <td>188.500000</td>\n",
              "      <td>2501.000000</td>\n",
              "      <td>0.201200</td>\n",
              "      <td>542.200000</td>\n",
              "      <td>36.040000</td>\n",
              "      <td>251.200000</td>\n",
              "      <td>4254.000000</td>\n",
              "      <td>0.291000</td>\n",
              "    </tr>\n",
              "  </tbody>\n",
              "</table>\n",
              "</div>\n",
              "      <button class=\"colab-df-convert\" onclick=\"convertToInteractive('df-5c6d9a2e-1b1a-441a-8842-0453bbed59eb')\"\n",
              "              title=\"Convert this dataframe to an interactive table.\"\n",
              "              style=\"display:none;\">\n",
              "        \n",
              "  <svg xmlns=\"http://www.w3.org/2000/svg\" height=\"24px\"viewBox=\"0 0 24 24\"\n",
              "       width=\"24px\">\n",
              "    <path d=\"M0 0h24v24H0V0z\" fill=\"none\"/>\n",
              "    <path d=\"M18.56 5.44l.94 2.06.94-2.06 2.06-.94-2.06-.94-.94-2.06-.94 2.06-2.06.94zm-11 1L8.5 8.5l.94-2.06 2.06-.94-2.06-.94L8.5 2.5l-.94 2.06-2.06.94zm10 10l.94 2.06.94-2.06 2.06-.94-2.06-.94-.94-2.06-.94 2.06-2.06.94z\"/><path d=\"M17.41 7.96l-1.37-1.37c-.4-.4-.92-.59-1.43-.59-.52 0-1.04.2-1.43.59L10.3 9.45l-7.72 7.72c-.78.78-.78 2.05 0 2.83L4 21.41c.39.39.9.59 1.41.59.51 0 1.02-.2 1.41-.59l7.78-7.78 2.81-2.81c.8-.78.8-2.07 0-2.86zM5.41 20L4 18.59l7.72-7.72 1.47 1.35L5.41 20z\"/>\n",
              "  </svg>\n",
              "      </button>\n",
              "      \n",
              "  <style>\n",
              "    .colab-df-container {\n",
              "      display:flex;\n",
              "      flex-wrap:wrap;\n",
              "      gap: 12px;\n",
              "    }\n",
              "\n",
              "    .colab-df-convert {\n",
              "      background-color: #E8F0FE;\n",
              "      border: none;\n",
              "      border-radius: 50%;\n",
              "      cursor: pointer;\n",
              "      display: none;\n",
              "      fill: #1967D2;\n",
              "      height: 32px;\n",
              "      padding: 0 0 0 0;\n",
              "      width: 32px;\n",
              "    }\n",
              "\n",
              "    .colab-df-convert:hover {\n",
              "      background-color: #E2EBFA;\n",
              "      box-shadow: 0px 1px 2px rgba(60, 64, 67, 0.3), 0px 1px 3px 1px rgba(60, 64, 67, 0.15);\n",
              "      fill: #174EA6;\n",
              "    }\n",
              "\n",
              "    [theme=dark] .colab-df-convert {\n",
              "      background-color: #3B4455;\n",
              "      fill: #D2E3FC;\n",
              "    }\n",
              "\n",
              "    [theme=dark] .colab-df-convert:hover {\n",
              "      background-color: #434B5C;\n",
              "      box-shadow: 0px 1px 3px 1px rgba(0, 0, 0, 0.15);\n",
              "      filter: drop-shadow(0px 1px 2px rgba(0, 0, 0, 0.3));\n",
              "      fill: #FFFFFF;\n",
              "    }\n",
              "  </style>\n",
              "\n",
              "      <script>\n",
              "        const buttonEl =\n",
              "          document.querySelector('#df-5c6d9a2e-1b1a-441a-8842-0453bbed59eb button.colab-df-convert');\n",
              "        buttonEl.style.display =\n",
              "          google.colab.kernel.accessAllowed ? 'block' : 'none';\n",
              "\n",
              "        async function convertToInteractive(key) {\n",
              "          const element = document.querySelector('#df-5c6d9a2e-1b1a-441a-8842-0453bbed59eb');\n",
              "          const dataTable =\n",
              "            await google.colab.kernel.invokeFunction('convertToInteractive',\n",
              "                                                     [key], {});\n",
              "          if (!dataTable) return;\n",
              "\n",
              "          const docLinkHtml = 'Like what you see? Visit the ' +\n",
              "            '<a target=\"_blank\" href=https://colab.research.google.com/notebooks/data_table.ipynb>data table notebook</a>'\n",
              "            + ' to learn more about interactive tables.';\n",
              "          element.innerHTML = '';\n",
              "          dataTable['output_type'] = 'display_data';\n",
              "          await google.colab.output.renderOutput(dataTable, element);\n",
              "          const docLink = document.createElement('div');\n",
              "          docLink.innerHTML = docLinkHtml;\n",
              "          element.appendChild(docLink);\n",
              "        }\n",
              "      </script>\n",
              "    </div>\n",
              "  </div>\n",
              "  "
            ]
          },
          "metadata": {},
          "execution_count": 20
        }
      ]
    },
    {
      "cell_type": "code",
      "source": [
        "for i in high_corr:\n",
        "  df[i].plot.hist(color=\"hotpink\")\n",
        "  plt.xlabel(i)\n",
        "  plt.title(i+\" distribution\")\n",
        "  plt.show()"
      ],
      "metadata": {
        "colab": {
          "base_uri": "https://localhost:8080/",
          "height": 1000
        },
        "id": "MMGpLpy2NdqK",
        "outputId": "bc6d9529-d360-4bc2-d96f-0c0752c62c97"
      },
      "execution_count": null,
      "outputs": [
        {
          "output_type": "display_data",
          "data": {
            "text/plain": [
              "<Figure size 432x288 with 1 Axes>"
            ],
            "image/png": "[encoded data removed]"
          },
          "metadata": {
            "needs_background": "light"
          }
        },
        {
          "output_type": "display_data",
          "data": {
            "text/plain": [
              "<Figure size 432x288 with 1 Axes>"
            ],
            "image/png": "[encoded data removed]"
          },
          "metadata": {
            "needs_background": "light"
          }
        },
        {
          "output_type": "display_data",
          "data": {
            "text/plain": [
              "<Figure size 432x288 with 1 Axes>"
            ],
            "image/png": "[encoded data removed]"
          },
          "metadata": {
            "needs_background": "light"
          }
        },
        {
          "output_type": "display_data",
          "data": {
            "text/plain": [
              "<Figure size 432x288 with 1 Axes>"
            ],
            "image/png": "[encoded data removed]"
          },
          "metadata": {
            "needs_background": "light"
          }
        },
        {
          "output_type": "display_data",
          "data": {
            "text/plain": [
              "<Figure size 432x288 with 1 Axes>"
            ],
            "image/png": "[encoded data removed]"
          },
          "metadata": {
            "needs_background": "light"
          }
        },
        {
          "output_type": "display_data",
          "data": {
            "text/plain": [
              "<Figure size 432x288 with 1 Axes>"
            ],
            "image/png": "[encoded data removed]"
          },
          "metadata": {
            "needs_background": "light"
          }
        },
        {
          "output_type": "display_data",
          "data": {
            "text/plain": [
              "<Figure size 432x288 with 1 Axes>"
            ],
            "image/png": "[encoded data removed]"
          },
          "metadata": {
            "needs_background": "light"
          }
        },
        {
          "output_type": "display_data",
          "data": {
            "text/plain": [
              "<Figure size 432x288 with 1 Axes>"
            ],
            "image/png": "[encoded data removed]"
          },
          "metadata": {
            "needs_background": "light"
          }
        }
      ]
    },
    {
      "cell_type": "markdown",
      "source": [
        "concave points_worst ditribution:\n",
        "\n",
        "the values of the concave points_worst feature range from 0 to 0.291 \n",
        "The most frequent values are between approximately 0.06 and 0.09 (almost 135 observation).\n",
        "The least frequent values are between approximately 0.26 and 0.39 (almost 10 observations)."
      ],
      "metadata": {
        "id": "FIxf5CIv-8zw"
      }
    },
    {
      "cell_type": "code",
      "source": [
        "for i in high_corr:\n",
        "   g=sns.FacetGrid(df,col=\"diagnosis\")\n",
        "   g.map(plt.hist,i,color=\"lightpink\")"
      ],
      "metadata": {
        "colab": {
          "base_uri": "https://localhost:8080/",
          "height": 1000
        },
        "id": "UHzzcjD2QbGj",
        "outputId": "f7e67b3e-9f04-40fc-bc12-28ce7a1a517a"
      },
      "execution_count": null,
      "outputs": [
        {
          "output_type": "display_data",
          "data": {
            "text/plain": [
              "<Figure size 432x216 with 2 Axes>"
            ],
            "image/png": "[encoded data removed]"
          },
          "metadata": {
            "needs_background": "light"
          }
        },
        {
          "output_type": "display_data",
          "data": {
            "text/plain": [
              "<Figure size 432x216 with 2 Axes>"
            ],
            "image/png": "[encoded data removed]"
          },
          "metadata": {
            "needs_background": "light"
          }
        },
        {
          "output_type": "display_data",
          "data": {
            "text/plain": [
              "<Figure size 432x216 with 2 Axes>"
            ],
            "image/png": "[encoded data removed]"
          },
          "metadata": {
            "needs_background": "light"
          }
        },
        {
          "output_type": "display_data",
          "data": {
            "text/plain": [
              "<Figure size 432x216 with 2 Axes>"
            ],
            "image/png": "[encoded data removed]"
          },
          "metadata": {
            "needs_background": "light"
          }
        },
        {
          "output_type": "display_data",
          "data": {
            "text/plain": [
              "<Figure size 432x216 with 2 Axes>"
            ],
            "image/png": "[encoded data removed]"
          },
          "metadata": {
            "needs_background": "light"
          }
        },
        {
          "output_type": "display_data",
          "data": {
            "text/plain": [
              "<Figure size 432x216 with 2 Axes>"
            ],
            "image/png": "[encoded data removed]"
          },
          "metadata": {
            "needs_background": "light"
          }
        },
        {
          "output_type": "display_data",
          "data": {
            "text/plain": [
              "<Figure size 432x216 with 2 Axes>"
            ],
            "image/png": "[encoded data removed]"
          },
          "metadata": {
            "needs_background": "light"
          }
        },
        {
          "output_type": "display_data",
          "data": {
            "text/plain": [
              "<Figure size 432x216 with 2 Axes>"
            ],
            "image/png": "[encoded data removed]"
          },
          "metadata": {
            "needs_background": "light"
          }
        }
      ]
    },
    {
      "cell_type": "markdown",
      "source": [
        "**Correlation between concave points_worst and diagnosis:**\n",
        "\n",
        "*concave points_worst ranges from 0 to almost 0.175 for the observations diagnosed as **Benign**. \n",
        "--The most frequent observations with  with beningn diagnosis (almost 80 observations) have concave points_worstare values that fall approximately between 0.05 and 0.1.\n",
        "--The least frequent beningn diagnosis observations (almost 5 observations) have concave points_worstare approximately between 0.15 and 0.175\n",
        "\n",
        "*concave points_worst ranges from approximately 0.03 to almost 0.28 for the observations diagnosed as **Melignant***.  \n",
        "--The most frequent Melignant diagnosis observations (almost 50 observations) have concave points_worstare approximately between 0.15 and 0.18\n",
        "--The least frequent Melignant diagnosis observations (less than 5 observations) have concave points_worstare approximately between 0.03 and 0.05"
      ],
      "metadata": {
        "id": "RlWTLddiuoij"
      }
    },
    {
      "cell_type": "markdown",
      "source": [
        "**Scatter Plots**"
      ],
      "metadata": {
        "id": "9-43fPQAamdk"
      }
    },
    {
      "cell_type": "code",
      "source": [
        "for i in high_corr:\n",
        "  x=df[i].values\n",
        "  y=df[\"diagnosis\"].values\n",
        "  plt.plot(x,y,\"bo\",color=\"deeppink\")\n",
        "  plt.title(\"Correlation between \" +i+\" and diagnosis \")\n",
        "  plt.show()"
      ],
      "metadata": {
        "colab": {
          "base_uri": "https://localhost:8080/",
          "height": 1000
        },
        "id": "7H-nidkI0Z4-",
        "outputId": "249cbc46-54a4-43d7-c6f1-4982d51f2c3e"
      },
      "execution_count": null,
      "outputs": [
        {
          "output_type": "display_data",
          "data": {
            "text/plain": [
              "<Figure size 432x288 with 1 Axes>"
            ],
            "image/png": "[encoded data removed]"
          },
          "metadata": {
            "needs_background": "light"
          }
        },
        {
          "output_type": "display_data",
          "data": {
            "text/plain": [
              "<Figure size 432x288 with 1 Axes>"
            ],
            "image/png": "[encoded data removed]"
          },
          "metadata": {
            "needs_background": "light"
          }
        },
        {
          "output_type": "display_data",
          "data": {
            "text/plain": [
              "<Figure size 432x288 with 1 Axes>"
            ],
            "image/png": "[encoded data removed]"
          },
          "metadata": {
            "needs_background": "light"
          }
        },
        {
          "output_type": "display_data",
          "data": {
            "text/plain": [
              "<Figure size 432x288 with 1 Axes>"
            ],
            "image/png": "[encoded data removed]"
          },
          "metadata": {
            "needs_background": "light"
          }
        },
        {
          "output_type": "display_data",
          "data": {
            "text/plain": [
              "<Figure size 432x288 with 1 Axes>"
            ],
            "image/png": "[encoded data removed]"
          },
          "metadata": {
            "needs_background": "light"
          }
        },
        {
          "output_type": "display_data",
          "data": {
            "text/plain": [
              "<Figure size 432x288 with 1 Axes>"
            ],
            "image/png": "[encoded data removed]"
          },
          "metadata": {
            "needs_background": "light"
          }
        },
        {
          "output_type": "display_data",
          "data": {
            "text/plain": [
              "<Figure size 432x288 with 1 Axes>"
            ],
            "image/png": "[encoded data removed]"
          },
          "metadata": {
            "needs_background": "light"
          }
        },
        {
          "output_type": "display_data",
          "data": {
            "text/plain": [
              "<Figure size 432x288 with 1 Axes>"
            ],
            "image/png": "[encoded data removed]"
          },
          "metadata": {
            "needs_background": "light"
          }
        }
      ]
    },
    {
      "cell_type": "markdown",
      "source": [
        "Interpretation:\n",
        "Correlation between concave points_worst and diagnosis:\n",
        "The obervations diagnosed as benign have concave points_worst values that fall approximately within the range of 0 and 0.18.\n",
        "The obervations diagnosed as malignant have concave points_worst values that fall approximately within the range of 0.06 and 0.29"
      ],
      "metadata": {
        "id": "XEbRYGuf4Dzo"
      }
    },
    {
      "cell_type": "markdown",
      "source": [
        "#Standardization"
      ],
      "metadata": {
        "id": "hNSOzBaSadqv"
      }
    },
    {
      "cell_type": "code",
      "source": [
        "#Boxplots of the features that are highly correlated with the target\n",
        "\n",
        "# Set the figure size\n",
        "plt.rcParams[\"figure.figsize\"] = [15, 5]\n",
        "# Plot the dataframe\n",
        "ax = df[high_corr].plot(kind='box', title='boxplot')\n",
        "# Display the plot\n",
        "plt.show()\n"
      ],
      "metadata": {
        "colab": {
          "base_uri": "https://localhost:8080/",
          "height": 337
        },
        "id": "pMF4whaGW2lY",
        "outputId": "9ddc9af0-ab30-4eda-d42a-ea40ae1e21fe"
      },
      "execution_count": null,
      "outputs": [
        {
          "output_type": "display_data",
          "data": {
            "text/plain": [
              "<Figure size 1080x360 with 1 Axes>"
            ],
            "image/png": "[encoded data removed]"
          },
          "metadata": {
            "needs_background": "light"
          }
        }
      ]
    },
    {
      "cell_type": "markdown",
      "source": [
        "This graph shows that the variables don't have the same importance, but we know that this is not true since the features values have different scales, for instance area_worst ranges from 185.2 to 4254 but concave points_worst ranges from 0 to 0.29.\n",
        "Therefore, in order to fix this, and to be able to use our classification models such as KNN and Logistic Regression, we have to standardize our data.\n"
      ],
      "metadata": {
        "id": "NImA6IDHaiEL"
      }
    },
    {
      "cell_type": "code",
      "source": [
        "#Standardization of all the features\n",
        "from sklearn.preprocessing import StandardScaler\n",
        "scale = StandardScaler()\n",
        "#features\n",
        "feat= df[f_names]\n",
        "#standardized features\n",
        "scaledx = scale.fit_transform(feat)\n",
        "scaledx"
      ],
      "metadata": {
        "id": "sAm0FdWFXokO",
        "colab": {
          "base_uri": "https://localhost:8080/"
        },
        "outputId": "98d966c8-52ae-4c17-a441-8e89394e6e66"
      },
      "execution_count": null,
      "outputs": [
        {
          "output_type": "execute_result",
          "data": {
            "text/plain": [
              "array([[-2.07333501,  1.26993369,  0.9843749 , ...,  2.29607613,\n",
              "         2.75062224,  1.93701461],\n",
              "       [-0.35363241,  1.68595471,  1.90870825, ...,  1.0870843 ,\n",
              "        -0.24388967,  0.28118999],\n",
              "       [ 0.45618695,  1.56650313,  1.55888363, ...,  1.95500035,\n",
              "         1.152255  ,  0.20139121],\n",
              "       ...,\n",
              "       [ 2.0455738 ,  0.67267578,  0.57795264, ...,  0.41406869,\n",
              "        -1.10454895, -0.31840916],\n",
              "       [ 2.33645719,  1.98252415,  1.73521799, ...,  2.28998549,\n",
              "         1.91908301,  2.21963528],\n",
              "       [ 1.22179204, -1.81438851, -1.34778924, ..., -1.74506282,\n",
              "        -0.04813821, -0.75120669]])"
            ]
          },
          "metadata": {},
          "execution_count": 26
        }
      ]
    },
    {
      "cell_type": "code",
      "source": [
        "#turning array scaledx into a dataframe\n",
        "scaledx_df=pd.DataFrame(scaledx,columns=f_names)\n",
        "scaledx_df.head()"
      ],
      "metadata": {
        "colab": {
          "base_uri": "https://localhost:8080/",
          "height": 317
        },
        "id": "ZrML4hD1VN9P",
        "outputId": "3995140d-9ec1-4e8b-fc8b-615554fd5a6d"
      },
      "execution_count": null,
      "outputs": [
        {
          "output_type": "execute_result",
          "data": {
            "text/plain": [
              "   texture_mean  perimeter_mean  area_mean  smoothness_mean  compactness_mean  \\\n",
              "0     -2.073335        1.269934   0.984375         1.568466          3.283515   \n",
              "1     -0.353632        1.685955   1.908708        -0.826962         -0.487072   \n",
              "2      0.456187        1.566503   1.558884         0.942210          1.052926   \n",
              "3      0.253732       -0.592687  -0.764464         3.283553          3.402909   \n",
              "4     -1.151816        1.776573   1.826229         0.280372          0.539340   \n",
              "\n",
              "   concavity_mean  concave points_mean  symmetry_mean  fractal_dimension_mean  \\\n",
              "0        2.652874             2.532475       2.217515                2.255747   \n",
              "1       -0.023846             0.548144       0.001392               -0.868652   \n",
              "2        1.363478             2.037231       0.939685               -0.398008   \n",
              "3        1.915897             1.451707       2.867383                4.910919   \n",
              "4        1.371011             1.428493      -0.009560               -0.562450   \n",
              "\n",
              "   radius_se  ...  radius_worst  texture_worst  perimeter_worst  area_worst  \\\n",
              "0   2.489734  ...      1.886690      -1.359293         2.303601    2.001237   \n",
              "1   0.499255  ...      1.805927      -0.369203         1.535126    1.890489   \n",
              "2   1.228676  ...      1.511870      -0.023974         1.347475    1.456285   \n",
              "3   0.326373  ...     -0.281464       0.133984        -0.249939   -0.550021   \n",
              "4   1.270543  ...      1.298575      -1.466770         1.338539    1.220724   \n",
              "\n",
              "   smoothness_worst  compactness_worst  concavity_worst  concave points_worst  \\\n",
              "0          1.307686           2.616665         2.109526              2.296076   \n",
              "1         -0.375612          -0.430444        -0.146749              1.087084   \n",
              "2          0.527407           1.082932         0.854974              1.955000   \n",
              "3          3.394275           3.893397         1.989588              2.175786   \n",
              "4          0.220556          -0.313395         0.613179              0.729259   \n",
              "\n",
              "   symmetry_worst  fractal_dimension_worst  \n",
              "0        2.750622                 1.937015  \n",
              "1       -0.243890                 0.281190  \n",
              "2        1.152255                 0.201391  \n",
              "3        6.046041                 4.935010  \n",
              "4       -0.868353                -0.397100  \n",
              "\n",
              "[5 rows x 29 columns]"
            ],
            "text/html": [
              "\n",
              "  <div id=\"df-f4061eb5-fcb6-49f8-b8f7-055799cd2d67\">\n",
              "    <div class=\"colab-df-container\">\n",
              "      <div>\n",
              "<style scoped>\n",
              "    .dataframe tbody tr th:only-of-type {\n",
              "        vertical-align: middle;\n",
              "    }\n",
              "\n",
              "    .dataframe tbody tr th {\n",
              "        vertical-align: top;\n",
              "    }\n",
              "\n",
              "    .dataframe thead th {\n",
              "        text-align: right;\n",
              "    }\n",
              "</style>\n",
              "<table border=\"1\" class=\"dataframe\">\n",
              "  <thead>\n",
              "    <tr style=\"text-align: right;\">\n",
              "      <th></th>\n",
              "      <th>texture_mean</th>\n",
              "      <th>perimeter_mean</th>\n",
              "      <th>area_mean</th>\n",
              "      <th>smoothness_mean</th>\n",
              "      <th>compactness_mean</th>\n",
              "      <th>concavity_mean</th>\n",
              "      <th>concave points_mean</th>\n",
              "      <th>symmetry_mean</th>\n",
              "      <th>fractal_dimension_mean</th>\n",
              "      <th>radius_se</th>\n",
              "      <th>...</th>\n",
              "      <th>radius_worst</th>\n",
              "      <th>texture_worst</th>\n",
              "      <th>perimeter_worst</th>\n",
              "      <th>area_worst</th>\n",
              "      <th>smoothness_worst</th>\n",
              "      <th>compactness_worst</th>\n",
              "      <th>concavity_worst</th>\n",
              "      <th>concave points_worst</th>\n",
              "      <th>symmetry_worst</th>\n",
              "      <th>fractal_dimension_worst</th>\n",
              "    </tr>\n",
              "  </thead>\n",
              "  <tbody>\n",
              "    <tr>\n",
              "      <th>0</th>\n",
              "      <td>-2.073335</td>\n",
              "      <td>1.269934</td>\n",
              "      <td>0.984375</td>\n",
              "      <td>1.568466</td>\n",
              "      <td>3.283515</td>\n",
              "      <td>2.652874</td>\n",
              "      <td>2.532475</td>\n",
              "      <td>2.217515</td>\n",
              "      <td>2.255747</td>\n",
              "      <td>2.489734</td>\n",
              "      <td>...</td>\n",
              "      <td>1.886690</td>\n",
              "      <td>-1.359293</td>\n",
              "      <td>2.303601</td>\n",
              "      <td>2.001237</td>\n",
              "      <td>1.307686</td>\n",
              "      <td>2.616665</td>\n",
              "      <td>2.109526</td>\n",
              "      <td>2.296076</td>\n",
              "      <td>2.750622</td>\n",
              "      <td>1.937015</td>\n",
              "    </tr>\n",
              "    <tr>\n",
              "      <th>1</th>\n",
              "      <td>-0.353632</td>\n",
              "      <td>1.685955</td>\n",
              "      <td>1.908708</td>\n",
              "      <td>-0.826962</td>\n",
              "      <td>-0.487072</td>\n",
              "      <td>-0.023846</td>\n",
              "      <td>0.548144</td>\n",
              "      <td>0.001392</td>\n",
              "      <td>-0.868652</td>\n",
              "      <td>0.499255</td>\n",
              "      <td>...</td>\n",
              "      <td>1.805927</td>\n",
              "      <td>-0.369203</td>\n",
              "      <td>1.535126</td>\n",
              "      <td>1.890489</td>\n",
              "      <td>-0.375612</td>\n",
              "      <td>-0.430444</td>\n",
              "      <td>-0.146749</td>\n",
              "      <td>1.087084</td>\n",
              "      <td>-0.243890</td>\n",
              "      <td>0.281190</td>\n",
              "    </tr>\n",
              "    <tr>\n",
              "      <th>2</th>\n",
              "      <td>0.456187</td>\n",
              "      <td>1.566503</td>\n",
              "      <td>1.558884</td>\n",
              "      <td>0.942210</td>\n",
              "      <td>1.052926</td>\n",
              "      <td>1.363478</td>\n",
              "      <td>2.037231</td>\n",
              "      <td>0.939685</td>\n",
              "      <td>-0.398008</td>\n",
              "      <td>1.228676</td>\n",
              "      <td>...</td>\n",
              "      <td>1.511870</td>\n",
              "      <td>-0.023974</td>\n",
              "      <td>1.347475</td>\n",
              "      <td>1.456285</td>\n",
              "      <td>0.527407</td>\n",
              "      <td>1.082932</td>\n",
              "      <td>0.854974</td>\n",
              "      <td>1.955000</td>\n",
              "      <td>1.152255</td>\n",
              "      <td>0.201391</td>\n",
              "    </tr>\n",
              "    <tr>\n",
              "      <th>3</th>\n",
              "      <td>0.253732</td>\n",
              "      <td>-0.592687</td>\n",
              "      <td>-0.764464</td>\n",
              "      <td>3.283553</td>\n",
              "      <td>3.402909</td>\n",
              "      <td>1.915897</td>\n",
              "      <td>1.451707</td>\n",
              "      <td>2.867383</td>\n",
              "      <td>4.910919</td>\n",
              "      <td>0.326373</td>\n",
              "      <td>...</td>\n",
              "      <td>-0.281464</td>\n",
              "      <td>0.133984</td>\n",
              "      <td>-0.249939</td>\n",
              "      <td>-0.550021</td>\n",
              "      <td>3.394275</td>\n",
              "      <td>3.893397</td>\n",
              "      <td>1.989588</td>\n",
              "      <td>2.175786</td>\n",
              "      <td>6.046041</td>\n",
              "      <td>4.935010</td>\n",
              "    </tr>\n",
              "    <tr>\n",
              "      <th>4</th>\n",
              "      <td>-1.151816</td>\n",
              "      <td>1.776573</td>\n",
              "      <td>1.826229</td>\n",
              "      <td>0.280372</td>\n",
              "      <td>0.539340</td>\n",
              "      <td>1.371011</td>\n",
              "      <td>1.428493</td>\n",
              "      <td>-0.009560</td>\n",
              "      <td>-0.562450</td>\n",
              "      <td>1.270543</td>\n",
              "      <td>...</td>\n",
              "      <td>1.298575</td>\n",
              "      <td>-1.466770</td>\n",
              "      <td>1.338539</td>\n",
              "      <td>1.220724</td>\n",
              "      <td>0.220556</td>\n",
              "      <td>-0.313395</td>\n",
              "      <td>0.613179</td>\n",
              "      <td>0.729259</td>\n",
              "      <td>-0.868353</td>\n",
              "      <td>-0.397100</td>\n",
              "    </tr>\n",
              "  </tbody>\n",
              "</table>\n",
              "<p>5 rows × 29 columns</p>\n",
              "</div>\n",
              "      <button class=\"colab-df-convert\" onclick=\"convertToInteractive('df-f4061eb5-fcb6-49f8-b8f7-055799cd2d67')\"\n",
              "              title=\"Convert this dataframe to an interactive table.\"\n",
              "              style=\"display:none;\">\n",
              "        \n",
              "  <svg xmlns=\"http://www.w3.org/2000/svg\" height=\"24px\"viewBox=\"0 0 24 24\"\n",
              "       width=\"24px\">\n",
              "    <path d=\"M0 0h24v24H0V0z\" fill=\"none\"/>\n",
              "    <path d=\"M18.56 5.44l.94 2.06.94-2.06 2.06-.94-2.06-.94-.94-2.06-.94 2.06-2.06.94zm-11 1L8.5 8.5l.94-2.06 2.06-.94-2.06-.94L8.5 2.5l-.94 2.06-2.06.94zm10 10l.94 2.06.94-2.06 2.06-.94-2.06-.94-.94-2.06-.94 2.06-2.06.94z\"/><path d=\"M17.41 7.96l-1.37-1.37c-.4-.4-.92-.59-1.43-.59-.52 0-1.04.2-1.43.59L10.3 9.45l-7.72 7.72c-.78.78-.78 2.05 0 2.83L4 21.41c.39.39.9.59 1.41.59.51 0 1.02-.2 1.41-.59l7.78-7.78 2.81-2.81c.8-.78.8-2.07 0-2.86zM5.41 20L4 18.59l7.72-7.72 1.47 1.35L5.41 20z\"/>\n",
              "  </svg>\n",
              "      </button>\n",
              "      \n",
              "  <style>\n",
              "    .colab-df-container {\n",
              "      display:flex;\n",
              "      flex-wrap:wrap;\n",
              "      gap: 12px;\n",
              "    }\n",
              "\n",
              "    .colab-df-convert {\n",
              "      background-color: #E8F0FE;\n",
              "      border: none;\n",
              "      border-radius: 50%;\n",
              "      cursor: pointer;\n",
              "      display: none;\n",
              "      fill: #1967D2;\n",
              "      height: 32px;\n",
              "      padding: 0 0 0 0;\n",
              "      width: 32px;\n",
              "    }\n",
              "\n",
              "    .colab-df-convert:hover {\n",
              "      background-color: #E2EBFA;\n",
              "      box-shadow: 0px 1px 2px rgba(60, 64, 67, 0.3), 0px 1px 3px 1px rgba(60, 64, 67, 0.15);\n",
              "      fill: #174EA6;\n",
              "    }\n",
              "\n",
              "    [theme=dark] .colab-df-convert {\n",
              "      background-color: #3B4455;\n",
              "      fill: #D2E3FC;\n",
              "    }\n",
              "\n",
              "    [theme=dark] .colab-df-convert:hover {\n",
              "      background-color: #434B5C;\n",
              "      box-shadow: 0px 1px 3px 1px rgba(0, 0, 0, 0.15);\n",
              "      filter: drop-shadow(0px 1px 2px rgba(0, 0, 0, 0.3));\n",
              "      fill: #FFFFFF;\n",
              "    }\n",
              "  </style>\n",
              "\n",
              "      <script>\n",
              "        const buttonEl =\n",
              "          document.querySelector('#df-f4061eb5-fcb6-49f8-b8f7-055799cd2d67 button.colab-df-convert');\n",
              "        buttonEl.style.display =\n",
              "          google.colab.kernel.accessAllowed ? 'block' : 'none';\n",
              "\n",
              "        async function convertToInteractive(key) {\n",
              "          const element = document.querySelector('#df-f4061eb5-fcb6-49f8-b8f7-055799cd2d67');\n",
              "          const dataTable =\n",
              "            await google.colab.kernel.invokeFunction('convertToInteractive',\n",
              "                                                     [key], {});\n",
              "          if (!dataTable) return;\n",
              "\n",
              "          const docLinkHtml = 'Like what you see? Visit the ' +\n",
              "            '<a target=\"_blank\" href=https://colab.research.google.com/notebooks/data_table.ipynb>data table notebook</a>'\n",
              "            + ' to learn more about interactive tables.';\n",
              "          element.innerHTML = '';\n",
              "          dataTable['output_type'] = 'display_data';\n",
              "          await google.colab.output.renderOutput(dataTable, element);\n",
              "          const docLink = document.createElement('div');\n",
              "          docLink.innerHTML = docLinkHtml;\n",
              "          element.appendChild(docLink);\n",
              "        }\n",
              "      </script>\n",
              "    </div>\n",
              "  </div>\n",
              "  "
            ]
          },
          "metadata": {},
          "execution_count": 27
        }
      ]
    },
    {
      "cell_type": "code",
      "source": [
        "#Boxplot of scaled features\n",
        "\n",
        "# Plot the dataframe\n",
        "ax = scaledx_df[high_corr].plot(kind='box', title='boxplot')\n",
        "# Display the plot\n",
        "plt.show()"
      ],
      "metadata": {
        "colab": {
          "base_uri": "https://localhost:8080/",
          "height": 337
        },
        "id": "dvykWFMiXiJd",
        "outputId": "fe4c7463-1bae-474d-f03c-59d729ef0376"
      },
      "execution_count": null,
      "outputs": [
        {
          "output_type": "display_data",
          "data": {
            "text/plain": [
              "<Figure size 1080x360 with 1 Axes>"
            ],
            "image/png": "[encoded data removed]"
          },
          "metadata": {
            "needs_background": "light"
          }
        }
      ]
    },
    {
      "cell_type": "markdown",
      "source": [
        "#Classification Models"
      ],
      "metadata": {
        "id": "kuKCEgF7fTts"
      }
    },
    {
      "cell_type": "markdown",
      "source": [
        "This part will be dedicated to run different machine learning classification models and evaluate their performance.\n",
        "\n",
        "For our models we will use KNN with 10 neighbors, Logistic Regression, Decision Tree Classifier, Random Forest,XGBOOST and ADABOOST.\n",
        "While building our models we will use the 30 present features first, then we will run them on the 8 features that are highly correlated with the target, which we have previously identified.\n",
        "\n",
        "We will apply these machine learning algorithms in the following steps: \n",
        " 1. Importaning Relevant Libraries\n",
        " 2. Identifying the features and the target variables\n",
        " 3. Splitting the data into training set and test set \n",
        " 4. Building our model\n",
        " 5. Training the model\n",
        " 6. Predicting the classes for the test set\n",
        " 7. Evaluating the classification accuracy"
      ],
      "metadata": {
        "id": "cHvzNQUCWodJ"
      }
    },
    {
      "cell_type": "markdown",
      "source": [
        "#KNN"
      ],
      "metadata": {
        "id": "AEOWjMSVaCKI"
      }
    },
    {
      "cell_type": "markdown",
      "source": [
        "We will use the k-nearest-neighbor algorithm to classify the diagnosis as Benign or Malignant based on the classification of 10 similiar in features observations (number of neighbors: k=10), found with the euclidean distance.\n",
        "\n",
        "Then we will try different K on our model and evaluate its performance."
      ],
      "metadata": {
        "id": "zXq8-5q2Z7eh"
      }
    },
    {
      "cell_type": "code",
      "source": [
        "#importing libraries\n",
        "from sklearn.model_selection import train_test_split\n",
        "from sklearn.neighbors import KNeighborsClassifier\n",
        "from sklearn.metrics import accuracy_score"
      ],
      "metadata": {
        "id": "MGgOpBzvYaba"
      },
      "execution_count": null,
      "outputs": []
    },
    {
      "cell_type": "code",
      "source": [
        "#Choosing the features and the target \n",
        "x=scaledx_df \n",
        "y=df['diagnosis']"
      ],
      "metadata": {
        "id": "l4iyJ1pEYkJw"
      },
      "execution_count": null,
      "outputs": []
    },
    {
      "cell_type": "code",
      "source": [
        "#Data splitting: 80% for training set and 20% for test test\n",
        "\n",
        "x_train,x_test,y_train,y_test=train_test_split(x,y,test_size=0.2,random_state=20)"
      ],
      "metadata": {
        "id": "Y4TMWoUIY5kZ"
      },
      "execution_count": null,
      "outputs": []
    },
    {
      "cell_type": "code",
      "source": [
        "#building knn classifier with k=10\n",
        "knn=KNeighborsClassifier(n_neighbors=10) \n",
        "#Fitting the training data\n",
        "knn.fit(x_train,y_train) \n",
        "#Prediction\n",
        "y_pred=knn.predict(x_test)  \n",
        "y_pred"
      ],
      "metadata": {
        "id": "A7ttQlIfZNFa",
        "colab": {
          "base_uri": "https://localhost:8080/"
        },
        "outputId": "7f576704-bf23-4512-d574-5c23369821a4"
      },
      "execution_count": null,
      "outputs": [
        {
          "output_type": "execute_result",
          "data": {
            "text/plain": [
              "array([0, 0, 1, 0, 1, 1, 1, 0, 0, 1, 1, 0, 0, 1, 0, 0, 0, 0, 1, 0, 0, 0,\n",
              "       1, 1, 1, 1, 1, 0, 0, 0, 0, 0, 1, 0, 1, 1, 1, 0, 1, 0, 1, 0, 0, 0,\n",
              "       1, 0, 0, 0, 0, 1, 0, 0, 1, 0, 0, 0, 0, 0, 0, 0, 0, 0, 0, 0, 1, 0,\n",
              "       1, 0, 0, 1, 1, 1, 1, 0, 0, 1, 1, 1, 1, 0, 0, 0, 0, 0, 0, 1, 0, 0,\n",
              "       0, 0, 0, 1, 0, 0, 1, 1, 1, 0, 0, 0, 0, 1, 1, 1, 0, 0, 1, 1, 0, 1,\n",
              "       0, 0, 1, 0])"
            ]
          },
          "metadata": {},
          "execution_count": 41
        }
      ]
    },
    {
      "cell_type": "markdown",
      "source": [
        "**Plotting predicted values and actual values **\n",
        "\n"
      ],
      "metadata": {
        "id": "EX1lipaV2AiT"
      }
    },
    {
      "cell_type": "code",
      "source": [
        "# fitting the size of the plot\n",
        "plt.figure(figsize=(10, 5))\n",
        "\n",
        "# plotting the graphs\n",
        "plt.plot([i for i in range(len(y_test))],y_test, label=\"actual values\",color=\"green\")\n",
        "plt.plot([i for i in range(len(y_test))],y_pred, label=\"Predicted values\",color=\"hotpink\")\n",
        "\n",
        "\n",
        "# showing the plotting\n",
        "plt.legend(loc=1, prop={'size': 10})\n",
        "plt.show()\n"
      ],
      "metadata": {
        "colab": {
          "base_uri": "https://localhost:8080/",
          "height": 320
        },
        "id": "euU6sG4hdHnk",
        "outputId": "c526ca45-82bd-4db2-90f6-bef7529cec19"
      },
      "execution_count": null,
      "outputs": [
        {
          "output_type": "display_data",
          "data": {
            "text/plain": [
              "<Figure size 720x360 with 1 Axes>"
            ],
            "image/png": "[encoded data removed]"
          },
          "metadata": {
            "needs_background": "light"
          }
        }
      ]
    },
    {
      "cell_type": "markdown",
      "source": [
        "**Accuracy**"
      ],
      "metadata": {
        "id": "ozM6JgA6nTB2"
      }
    },
    {
      "cell_type": "code",
      "source": [
        "accuracy_all_features=[]\n",
        "accuracy_high_corr=[]"
      ],
      "metadata": {
        "id": "NZA2bSUY0J28"
      },
      "execution_count": null,
      "outputs": []
    },
    {
      "cell_type": "code",
      "source": [
        "#Accuracy\n",
        "acc_sc=round((accuracy_score(y_pred,y_test)*100),2)\n",
        "print('Acuuracy=',acc_sc,\"%\")\n",
        "accuracy_all_features.append(acc_sc)"
      ],
      "metadata": {
        "colab": {
          "base_uri": "https://localhost:8080/"
        },
        "id": "blQXO1c1ZfEk",
        "outputId": "1763ab0e-0da7-4d71-b872-d935b3577cfe"
      },
      "execution_count": null,
      "outputs": [
        {
          "output_type": "stream",
          "name": "stdout",
          "text": [
            "Acuuracy= 96.49 %\n"
          ]
        }
      ]
    },
    {
      "cell_type": "markdown",
      "source": [
        "Our KNN model with k=10 has a very good accuracy score of 96.49%."
      ],
      "metadata": {
        "id": "sma5L3CQi3Ar"
      }
    },
    {
      "cell_type": "markdown",
      "source": [
        "**Confusion Matrix**"
      ],
      "metadata": {
        "id": "tRDVfvGwnc0A"
      }
    },
    {
      "cell_type": "code",
      "source": [
        "plt.rcParams[\"figure.figsize\"] = [8, 5]\n",
        "confusion_matrix = pd.crosstab(y_test, y_pred, rownames=['Actual'], colnames=['Predicted'])\n",
        "sns.heatmap(confusion_matrix, annot=True)"
      ],
      "metadata": {
        "colab": {
          "base_uri": "https://localhost:8080/",
          "height": 351
        },
        "id": "7vyOSWOVjsE9",
        "outputId": "99b37809-b72c-479a-f0e6-ba8e5901ac51"
      },
      "execution_count": null,
      "outputs": [
        {
          "output_type": "execute_result",
          "data": {
            "text/plain": [
              "<matplotlib.axes._subplots.AxesSubplot at 0x7fd5e23a1a50>"
            ]
          },
          "metadata": {},
          "execution_count": 59
        },
        {
          "output_type": "display_data",
          "data": {
            "text/plain": [
              "<Figure size 576x360 with 2 Axes>"
            ],
            "image/png": "[encoded data removed]"
          },
          "metadata": {
            "needs_background": "light"
          }
        }
      ]
    },
    {
      "cell_type": "markdown",
      "source": [
        "*The value B (Benign) takes the number 0 (negative), and M (Malignant) takes the number 1 (positive).*\n",
        "\n",
        "66 observations were predicted as Benign and were actually Benign. (66 true negative)\n",
        "\n",
        "42 observations were predicted as Malignant and were actually Malignant. (42 true positive)\n",
        "\n",
        "6 observations were predicted as Benign and were actually Malignant. (6 false negative)\n",
        "\n",
        "0 observations were predicted as Malignant and were actually Benign. (0 false positive)"
      ],
      "metadata": {
        "id": "0jVWKhAOko1j"
      }
    },
    {
      "cell_type": "markdown",
      "source": [
        "**Classification Report**"
      ],
      "metadata": {
        "id": "RLDr_kMsnJPl"
      }
    },
    {
      "cell_type": "code",
      "source": [
        "from sklearn.metrics import classification_report\n",
        "print(classification_report(y_test,y_pred))"
      ],
      "metadata": {
        "colab": {
          "base_uri": "https://localhost:8080/"
        },
        "id": "sPOPd7HJmtds",
        "outputId": "4517ef43-4518-4bfd-f958-ae0119f8f724"
      },
      "execution_count": null,
      "outputs": [
        {
          "output_type": "stream",
          "name": "stdout",
          "text": [
            "              precision    recall  f1-score   support\n",
            "\n",
            "           0       0.94      1.00      0.97        66\n",
            "           1       1.00      0.92      0.96        48\n",
            "\n",
            "    accuracy                           0.96       114\n",
            "   macro avg       0.97      0.96      0.96       114\n",
            "weighted avg       0.97      0.96      0.96       114\n",
            "\n"
          ]
        }
      ]
    },
    {
      "cell_type": "code",
      "source": [
        "#classification report using the formulas\n",
        "TP=42\n",
        "TN=66\n",
        "FP=0\n",
        "FN=6\n",
        "print(\"Accuracy\")\n",
        "print(\"How many correct predictions have we made from all the observations?\")\n",
        "Accuracy = (TP+TN)/(TP+FP+FN+TN)\n",
        "print(\"Accuracy =\",round(Accuracy,2))\n",
        "\n",
        "\n",
        "print(\"Recall\")\n",
        "print(\"Out of all the observations that were Malignant , how many did we get correct?\")\n",
        "Recall = TP/(TP+FN)\n",
        "print(\"Recall =\",round(Recall,2))\n",
        "print(\"Precision\")\n",
        "print(\"Out of all the observations that we predicted to be Malignant, how many did we actually get right?\")\n",
        "Precision= TP/(TP+FP)\n",
        "print(\"Precision =\",round(Precision,2))"
      ],
      "metadata": {
        "colab": {
          "base_uri": "https://localhost:8080/"
        },
        "id": "Hj9dMcQSqVcx",
        "outputId": "485fcb5e-dc85-4e8a-cbbd-0f288f710395"
      },
      "execution_count": null,
      "outputs": [
        {
          "output_type": "stream",
          "name": "stdout",
          "text": [
            "Accuracy\n",
            "How many correct predictions have we made from all the observations?\n",
            "Accuracy = 0.95\n",
            "Recall\n",
            "Out of all the observations that were Malignant , how many did we get correct?\n",
            "Recall = 0.88\n",
            "Precision\n",
            "Out of all the observations that we predicted to be Malignant, how many did we actually get right?\n",
            "Precision = 1.0\n"
          ]
        }
      ]
    },
    {
      "cell_type": "code",
      "source": [
        "#Trying different k and finding their accuracies\n",
        "k=int(input(\"Enter the maximum number of neighbors to try: \"))\n",
        "acc=[]\n",
        "for i in range(1,k+1):\n",
        "  knn=KNeighborsClassifier(i)\n",
        "  knn.fit(x_train,y_train)\n",
        "  y_pred=knn.predict(x_test)\n",
        "  score=accuracy_score(y_pred,y_test)*100\n",
        "  print(\"For k =\",i,\" the accuracy score is: \", round(score,2),\"%\")\n",
        "  acc.append(score)\n",
        "\n",
        "#Plotting different K and their accuracies\n",
        "plt.plot(range(1,k+1),acc)\n",
        "plt.xlabel('Value K for KNN')\n",
        "plt.ylabel('Testing Accuracy')\n",
        "plt.title(\"Different K and their accuracies\")"
      ],
      "metadata": {
        "colab": {
          "base_uri": "https://localhost:8080/",
          "height": 732
        },
        "id": "NPBdMfV6Zl_T",
        "outputId": "6a711e85-7451-4add-f2fa-d54b9bf680b3"
      },
      "execution_count": null,
      "outputs": [
        {
          "output_type": "stream",
          "name": "stdout",
          "text": [
            "Enter the maximum number of neighbors to try: 20\n",
            "For k = 1  the accuracy score is:  93.86 %\n",
            "For k = 2  the accuracy score is:  95.61 %\n",
            "For k = 3  the accuracy score is:  95.61 %\n",
            "For k = 4  the accuracy score is:  96.49 %\n",
            "For k = 5  the accuracy score is:  95.61 %\n",
            "For k = 6  the accuracy score is:  96.49 %\n",
            "For k = 7  the accuracy score is:  96.49 %\n",
            "For k = 8  the accuracy score is:  96.49 %\n",
            "For k = 9  the accuracy score is:  95.61 %\n",
            "For k = 10  the accuracy score is:  96.49 %\n",
            "For k = 11  the accuracy score is:  96.49 %\n",
            "For k = 12  the accuracy score is:  94.74 %\n",
            "For k = 13  the accuracy score is:  94.74 %\n",
            "For k = 14  the accuracy score is:  94.74 %\n",
            "For k = 15  the accuracy score is:  94.74 %\n",
            "For k = 16  the accuracy score is:  94.74 %\n",
            "For k = 17  the accuracy score is:  94.74 %\n",
            "For k = 18  the accuracy score is:  94.74 %\n",
            "For k = 19  the accuracy score is:  94.74 %\n",
            "For k = 20  the accuracy score is:  94.74 %\n"
          ]
        },
        {
          "output_type": "execute_result",
          "data": {
            "text/plain": [
              "Text(0.5, 1.0, 'Different K and their accuracies')"
            ]
          },
          "metadata": {},
          "execution_count": 64
        },
        {
          "output_type": "display_data",
          "data": {
            "text/plain": [
              "<Figure size 576x360 with 1 Axes>"
            ],
            "image/png": "[encoded data removed]"
          },
          "metadata": {
            "needs_background": "light"
          }
        }
      ]
    },
    {
      "cell_type": "markdown",
      "source": [
        "**Using KNN with K=10 and only with the features that are highly correlated with the target**\n"
      ],
      "metadata": {
        "id": "wKQTjL_9v6NH"
      }
    },
    {
      "cell_type": "code",
      "source": [
        "#Choosing the features and the target \n",
        "x=scaledx_df[high_corr] \n",
        "y=df['diagnosis']\n",
        "#Data splitting: 80% for training set and 20% for test test\n",
        "\n",
        "x_train,x_test,y_train,y_test=train_test_split(x,y,test_size=0.2,random_state=20)\n",
        "#building knn classifier with k=10\n",
        "knn=KNeighborsClassifier(n_neighbors=10) \n",
        "#Fitting the training data\n",
        "knn.fit(x_train,y_train) \n",
        "#Prediction\n",
        "y_pred=knn.predict(x_test)  \n",
        "#Accuracy\n",
        "acc_sc=round((accuracy_score(y_pred,y_test)*100),2)\n",
        "print('Acuuracy=',acc_sc,\"%\")\n",
        "accuracy_high_corr.append(acc_sc)"
      ],
      "metadata": {
        "colab": {
          "base_uri": "https://localhost:8080/"
        },
        "id": "uupYOIQwwD81",
        "outputId": "48db4eba-a704-4111-da8d-18085391106f"
      },
      "execution_count": null,
      "outputs": [
        {
          "output_type": "stream",
          "name": "stdout",
          "text": [
            "Acuuracy= 95.61 %\n"
          ]
        }
      ]
    },
    {
      "cell_type": "markdown",
      "source": [
        "#LOGISTIC REGRESSION"
      ],
      "metadata": {
        "id": "0y5ksvL4auWE"
      }
    },
    {
      "cell_type": "markdown",
      "source": [
        "The logistic regression model will be used to predict the probability of the target \"Diagnosis\" being Benign or Malignant  through a logistic function."
      ],
      "metadata": {
        "id": "5DF2FlJGvfRD"
      }
    },
    {
      "cell_type": "code",
      "source": [
        "from sklearn.linear_model import LogisticRegression"
      ],
      "metadata": {
        "id": "z6UzBpivZ0Ur"
      },
      "execution_count": null,
      "outputs": []
    },
    {
      "cell_type": "code",
      "source": [
        "#Choosing the features and the target \n",
        "x=scaledx_df \n",
        "y=df['diagnosis']\n",
        "#Data splitting 80% traing 20% testing\n",
        "x_train,x_test,y_train,y_test=train_test_split(x,y,test_size=0.2,random_state=30)"
      ],
      "metadata": {
        "id": "Wu6k9ScOeG-8"
      },
      "execution_count": null,
      "outputs": []
    },
    {
      "cell_type": "code",
      "source": [
        "#Building a logistic model\n",
        "logreg = LogisticRegression()\n",
        "#Fitting training data\n",
        "logreg.fit(x_train, y_train)\n",
        "#Predicting\n",
        "predicted= logreg.predict(x_test)\n",
        "predicted"
      ],
      "metadata": {
        "id": "TfcU4fyea5PD",
        "colab": {
          "base_uri": "https://localhost:8080/"
        },
        "outputId": "910a6804-3a67-4fec-8bbd-213b8bf90d13"
      },
      "execution_count": null,
      "outputs": [
        {
          "output_type": "execute_result",
          "data": {
            "text/plain": [
              "array([1, 1, 0, 1, 0, 1, 0, 0, 0, 0, 0, 1, 0, 1, 1, 1, 1, 1, 0, 0, 0, 0,\n",
              "       1, 0, 0, 1, 0, 0, 0, 0, 0, 0, 1, 1, 0, 0, 0, 0, 0, 0, 1, 0, 0, 0,\n",
              "       1, 1, 1, 1, 0, 0, 0, 0, 0, 1, 0, 0, 0, 0, 1, 1, 0, 0, 0, 1, 0, 1,\n",
              "       0, 1, 0, 1, 0, 1, 0, 0, 1, 1, 0, 0, 1, 1, 1, 0, 0, 0, 1, 1, 0, 0,\n",
              "       0, 1, 1, 1, 0, 1, 0, 1, 0, 0, 1, 0, 0, 1, 0, 1, 0, 0, 0, 0, 0, 1,\n",
              "       0, 0, 0, 1])"
            ]
          },
          "metadata": {},
          "execution_count": 68
        }
      ]
    },
    {
      "cell_type": "code",
      "source": [
        "#Accuracy\n",
        "acc_sc=round((accuracy_score(predicted,y_test)*100),2)\n",
        "print('Acuuracy=',acc_sc,\"%\")\n",
        "accuracy_all_features.append(acc_sc)"
      ],
      "metadata": {
        "colab": {
          "base_uri": "https://localhost:8080/"
        },
        "id": "6pWGtatq6ixH",
        "outputId": "965748d4-6678-4e26-e299-fe8bee30e31a"
      },
      "execution_count": null,
      "outputs": [
        {
          "output_type": "stream",
          "name": "stdout",
          "text": [
            "Acuuracy= 98.25 %\n"
          ]
        }
      ]
    },
    {
      "cell_type": "markdown",
      "source": [
        "Our logistic regression model has a very good accuracy score of 98.25%."
      ],
      "metadata": {
        "id": "FCPmmX76pvXv"
      }
    },
    {
      "cell_type": "code",
      "source": [
        "#Logistic regression of Diagnosis with x=radius_mean \n",
        "sns.regplot(x='concave points_worst',y='diagnosis',data=df,color=\"deeppink\")"
      ],
      "metadata": {
        "colab": {
          "base_uri": "https://localhost:8080/",
          "height": 352
        },
        "id": "_LcvPJwUbEkV",
        "outputId": "4a3e3826-7bb7-4f5d-981e-e1a5610d6916"
      },
      "execution_count": null,
      "outputs": [
        {
          "output_type": "execute_result",
          "data": {
            "text/plain": [
              "<matplotlib.axes._subplots.AxesSubplot at 0x7fd5e2031250>"
            ]
          },
          "metadata": {},
          "execution_count": 70
        },
        {
          "output_type": "display_data",
          "data": {
            "text/plain": [
              "<Figure size 576x360 with 1 Axes>"
            ],
            "image/png": "[encoded data removed]"
          },
          "metadata": {
            "needs_background": "light"
          }
        }
      ]
    },
    {
      "cell_type": "markdown",
      "source": [
        "p>0.5 => malignant \n",
        "p<0.5 => benign"
      ],
      "metadata": {
        "id": "ic-DB-xIBbYG"
      }
    },
    {
      "cell_type": "markdown",
      "source": [
        "**Confusion Matrix**"
      ],
      "metadata": {
        "id": "-XbA5RzkbwT-"
      }
    },
    {
      "cell_type": "code",
      "source": [
        "confusion_matrix = pd.crosstab(y_test, predicted, rownames=['Actual'], colnames=['Predicted'])\n",
        "sns.heatmap(confusion_matrix, annot=True)"
      ],
      "metadata": {
        "colab": {
          "base_uri": "https://localhost:8080/",
          "height": 351
        },
        "id": "WhxeLOodbr3U",
        "outputId": "5fa30c05-30cc-43a1-89b1-f2eb8986c9ae"
      },
      "execution_count": null,
      "outputs": [
        {
          "output_type": "execute_result",
          "data": {
            "text/plain": [
              "<matplotlib.axes._subplots.AxesSubplot at 0x7fd5e211e1d0>"
            ]
          },
          "metadata": {},
          "execution_count": 71
        },
        {
          "output_type": "display_data",
          "data": {
            "text/plain": [
              "<Figure size 576x360 with 2 Axes>"
            ],
            "image/png": "[encoded data removed]"
          },
          "metadata": {
            "needs_background": "light"
          }
        }
      ]
    },
    {
      "cell_type": "markdown",
      "source": [
        "*the value B (Benign) takes the number 0 (negative), and M (Malignant) takes the number 1 (positive).*\n",
        "\n",
        "69 observations were predicted as Benign and were actually Benign. (69 true negative)\n",
        "43 observations were predicted as Malignant and were actually Malignant. (43 true positive)\n",
        "1 observation was predicted as Benign and were actually Malignant. (1 false negative)\n",
        "1 observation was predicted as Malignant and were actually Benign. (1 false positive)"
      ],
      "metadata": {
        "id": "Agkt0rRW63Z8"
      }
    },
    {
      "cell_type": "markdown",
      "source": [
        "**Classification Report**"
      ],
      "metadata": {
        "id": "3ZYXIC0ycE24"
      }
    },
    {
      "cell_type": "code",
      "source": [
        "from sklearn.metrics import classification_report\n",
        "print(classification_report(y_test,predicted))"
      ],
      "metadata": {
        "colab": {
          "base_uri": "https://localhost:8080/"
        },
        "id": "-ok-hg2Rb36L",
        "outputId": "68977acc-17b5-483d-ebc3-3a2989704eaf"
      },
      "execution_count": null,
      "outputs": [
        {
          "output_type": "stream",
          "name": "stdout",
          "text": [
            "              precision    recall  f1-score   support\n",
            "\n",
            "           0       0.99      0.99      0.99        70\n",
            "           1       0.98      0.98      0.98        44\n",
            "\n",
            "    accuracy                           0.98       114\n",
            "   macro avg       0.98      0.98      0.98       114\n",
            "weighted avg       0.98      0.98      0.98       114\n",
            "\n"
          ]
        }
      ]
    },
    {
      "cell_type": "markdown",
      "source": [
        "\n",
        "Accuracy = 0.98\n",
        "we made 98% correct predictions from all the observations\n",
        "For 1 (Malignant): \n",
        "Recall = 0.98\n",
        "Out of all the observations that were Malignant,we got 98% correct.\n",
        "\n",
        "Precision =0.98\n",
        "Out of all the observations that we predicted to be Malignant, we got 98% correct.\n"
      ],
      "metadata": {
        "id": "FiGJwsCp7TVc"
      }
    },
    {
      "cell_type": "markdown",
      "source": [
        "**Using Logistic Regression Model only with the features that are highly correlated with the target**\n"
      ],
      "metadata": {
        "id": "QvK-r1JkwueF"
      }
    },
    {
      "cell_type": "code",
      "source": [
        "#Choosing the features and the target \n",
        "x=scaledx_df[high_corr] \n",
        "y=df['diagnosis']\n",
        "#Data splitting: 80% for training set and 20% for test test\n",
        "\n",
        "x_train,x_test,y_train,y_test=train_test_split(x,y,test_size=0.2,random_state=20)\n",
        "#Building a logistic model\n",
        "logreg = LogisticRegression()\n",
        "#Fitting training data\n",
        "logreg.fit(x_train, y_train)\n",
        "#Predicting\n",
        "predicted= logreg.predict(x_test) \n",
        "#Accuracy\n",
        "acc_sc=round((accuracy_score(predicted,y_test)*100),2)\n",
        "print('Acuuracy=',acc_sc,\"%\")\n",
        "accuracy_high_corr.append(acc_sc)"
      ],
      "metadata": {
        "colab": {
          "base_uri": "https://localhost:8080/"
        },
        "outputId": "69f733a4-b120-47a6-a293-6ee4f3bf7ff6",
        "id": "BQZ8Wjk6wueF"
      },
      "execution_count": null,
      "outputs": [
        {
          "output_type": "stream",
          "name": "stdout",
          "text": [
            "Acuuracy= 96.49 %\n"
          ]
        }
      ]
    },
    {
      "cell_type": "markdown",
      "source": [
        "#Decision Tree Classifier"
      ],
      "metadata": {
        "id": "N2ziP3SFdU1S"
      }
    },
    {
      "cell_type": "markdown",
      "source": [
        "In this part we will build a decision tree using the 30 present features (but a maximum depth of 10) and then using the 8 features that are highly correlated with the target \"Diagnosis\".\n",
        "We will also interpret some of the homogeneity levels meaured by the gini coefficient that was obtained from the split on the features."
      ],
      "metadata": {
        "id": "nWPb6Qi6lms5"
      }
    },
    {
      "cell_type": "code",
      "source": [
        "#Importing relevant libraries\n",
        "from sklearn import tree\n",
        "from sklearn.tree import DecisionTreeClassifier\n",
        "\n"
      ],
      "metadata": {
        "id": "GSItyiygc7GY"
      },
      "execution_count": null,
      "outputs": []
    },
    {
      "cell_type": "code",
      "source": [
        "#features and target\n",
        "x=df[f_names]\n",
        "y=df[\"diagnosis\"]"
      ],
      "metadata": {
        "id": "qcUzxBHXgkQa"
      },
      "execution_count": null,
      "outputs": []
    },
    {
      "cell_type": "code",
      "source": [
        "#splitting data 20% test 80% training\n",
        "x_train, x_test, y_train, y_test = train_test_split(x,y, test_size=0.20,random_state=10)\n",
        "\n",
        "dtree = DecisionTreeClassifier(criterion=\"gini\",splitter='random',max_leaf_nodes=10,min_samples_leaf=5, max_depth=10)\n",
        "#training the model\n",
        "dtree = dtree.fit(x_train, y_train)\n",
        "#predicting\n",
        "y_pred=dtree.predict(x_test) \n",
        "\n",
        "plt.figure(figsize=(15,15))\n",
        "tree.plot_tree(dtree, feature_names=f_names,fontsize=10 )\n",
        "acc_sc=round((accuracy_score(y_pred,y_test)*100),2)\n",
        "print('Acuuracy=',acc_sc,\"%\")\n"
      ],
      "metadata": {
        "colab": {
          "base_uri": "https://localhost:8080/",
          "height": 863
        },
        "id": "Pp2nC9XwgulK",
        "outputId": "2d472241-1010-436c-972f-50c7d89d3f95"
      },
      "execution_count": null,
      "outputs": [
        {
          "output_type": "stream",
          "name": "stdout",
          "text": [
            "Acuuracy= 95.61 %\n"
          ]
        },
        {
          "output_type": "display_data",
          "data": {
            "text/plain": [
              "<Figure size 1080x1080 with 1 Axes>"
            ],
            "image/png": "[encoded data removed]"
          },
          "metadata": {
            "needs_background": "light"
          }
        }
      ]
    },
    {
      "cell_type": "markdown",
      "source": [
        "Brief Explanation:\n",
        "Line 1:\n",
        "testing perimiter_mean \n",
        "our training set (455 observations) contains 282 benign and 173 malignant \n",
        "gini=0.471 \n",
        "very close to 0.5=> the split is done almost in the middle\n",
        "\n",
        "Line2 :(on the left) :testing concave_points mean\n",
        "the 324 obervations that have perimiter_mean<720.153 contains 276 benign and 48 malignant \n",
        "gini has decreased to 0.252 \n",
        "in the next lines (following this last split and staying on the left)\n",
        "compactness_mean \n",
        "then testing perimiter_mean again \n",
        "and for the observations with perimiter_mean<=619.945\n",
        "we get gini=0.032 => very close to 0 now the data almost belongs to the same class (239 benign and only 4 malignant observations)"
      ],
      "metadata": {
        "id": "wRJM_sRoktHZ"
      }
    },
    {
      "cell_type": "markdown",
      "source": [
        "Accuracy score:\n",
        "The accuracy score will keep changing because the  answer from the decision tree model will keep changing based on probabailities."
      ],
      "metadata": {
        "id": "v3dp_8m9qheI"
      }
    },
    {
      "cell_type": "code",
      "source": [
        "#changing the parameters\n",
        "#features and target\n",
        "x=df[high_corr]\n",
        "y=df[\"diagnosis\"]\n",
        "#splitting data 20% test 80% training\n",
        "x_train, x_test, y_train, y_test = train_test_split(x,y, test_size=0.20,random_state=10)\n",
        "\n",
        "dtree = DecisionTreeClassifier(criterion=\"gini\",splitter='random',max_leaf_nodes=10,min_samples_leaf=5, max_depth=10)\n",
        "#training the model\n",
        "dtree = dtree.fit(x_train, y_train)\n",
        "#predicting\n",
        "y_pred=dtree.predict(x_test) \n",
        "\n",
        "plt.figure(figsize=(15,15))\n",
        "tree.plot_tree(dtree, feature_names=f_names,fontsize=10 )\n",
        "acc_sc=round((accuracy_score(y_pred,y_test)*100),2)\n",
        "print('Acuuracy=',acc_sc,\"%\")"
      ],
      "metadata": {
        "colab": {
          "base_uri": "https://localhost:8080/",
          "height": 863
        },
        "id": "YeVUVX-dDI69",
        "outputId": "12a07f4f-eacc-499a-cc8b-40e79782ef94"
      },
      "execution_count": null,
      "outputs": [
        {
          "output_type": "stream",
          "name": "stdout",
          "text": [
            "Acuuracy= 95.61 %\n"
          ]
        },
        {
          "output_type": "display_data",
          "data": {
            "text/plain": [
              "<Figure size 1080x1080 with 1 Axes>"
            ],
            "image/png": "[encoded data removed]"
          },
          "metadata": {
            "needs_background": "light"
          }
        }
      ]
    },
    {
      "cell_type": "markdown",
      "source": [
        "first line \n",
        "we get gini=0.02 for the 97 observations with values >0.083 when we split on area_mean and get 1 benign observation and 96 malignant. (almost homogeneous sample )\n",
        "last line\n",
        "gini= 0.0 =>completely homogeneous sample for 12 observations that are benign\n",
        "after testing area_mean , compactness_mean, perimiter_mean, radius_mean, concavity_mean, concave_points mean "
      ],
      "metadata": {
        "id": "2qg9HTTnk3ZY"
      }
    },
    {
      "cell_type": "markdown",
      "source": [
        "#Random Forest"
      ],
      "metadata": {
        "id": "3EWK0-6BCXHa"
      }
    },
    {
      "cell_type": "markdown",
      "source": [
        "Another classification algorithm that we're going to use is Random Forest Classifier, which will improve the accuracy of the model and decrease overfitting, by taking the class of the majority vote of classifications from different decision trees that were run on different samples from our data.  "
      ],
      "metadata": {
        "id": "s4LTVd-zm9xT"
      }
    },
    {
      "cell_type": "code",
      "source": [
        "#Importing Random Forest Classifier\n",
        "from sklearn.ensemble import RandomForestClassifier "
      ],
      "metadata": {
        "id": "SF3WgbIZg1ld"
      },
      "execution_count": null,
      "outputs": []
    },
    {
      "cell_type": "code",
      "source": [
        "#features and target\n",
        "x=df[f_names]\n",
        "y=df[\"diagnosis\"]\n",
        "#splitting data\n",
        "x_train, x_test, y_train, y_test = train_test_split(x,y, test_size=0.20,random_state=10)\n",
        "#Creating a random forest with 10 decision trees\n",
        "clf=RandomForestClassifier(n_estimators=10)  \n",
        "#Training our model\n",
        "clf.fit(x_train, y_train) \n",
        "#Predicting\n",
        "y_pred=clf.predict(x_test) \n",
        "#Measuring the accuracy of our model \n",
        "acc_sc=round((accuracy_score(y_pred,y_test)*100),2)\n",
        "print('Acuuracy=',acc_sc,\"%\")"
      ],
      "metadata": {
        "colab": {
          "base_uri": "https://localhost:8080/"
        },
        "id": "1J-CsVNOhbJN",
        "outputId": "7ee8dbb9-3bf6-4b7f-f587-97a5c4bb2278"
      },
      "execution_count": null,
      "outputs": [
        {
          "output_type": "stream",
          "name": "stdout",
          "text": [
            "Acuuracy= 96.49 %\n"
          ]
        }
      ]
    },
    {
      "cell_type": "markdown",
      "source": [
        "Same as the decision tree model, we get different accuracy scores from the random forest model which since it uses randomization."
      ],
      "metadata": {
        "id": "TUniM8WOgrEN"
      }
    },
    {
      "cell_type": "markdown",
      "source": [
        "#XGBOOST"
      ],
      "metadata": {
        "id": "b99HJSDMfMI5"
      }
    },
    {
      "cell_type": "markdown",
      "source": [
        "This algorithm will use sequentially-built weak decision trees to find the best tree model."
      ],
      "metadata": {
        "id": "lJulZf3duY44"
      }
    },
    {
      "cell_type": "code",
      "source": [
        "#loading packages\n",
        "from xgboost import XGBClassifier\n",
        "from sklearn.model_selection import train_test_split\n",
        "from sklearn.metrics import accuracy_score\n",
        "from numpy import nan"
      ],
      "metadata": {
        "id": "d8nmZCWwfLDR"
      },
      "execution_count": null,
      "outputs": []
    },
    {
      "cell_type": "code",
      "source": [
        "#features and target\n",
        "x=df[f_names]\n",
        "y=df[\"diagnosis\"]\n",
        "x_train, x_test, y_train, y_test = train_test_split(x, y, test_size=0.2, random_state=10)"
      ],
      "metadata": {
        "id": "4KcrPoPSgHX7"
      },
      "execution_count": null,
      "outputs": []
    },
    {
      "cell_type": "code",
      "source": [
        "#Building the model\n",
        "model = XGBClassifier(use_label_encoder=False, eval_metric='mlogloss')\n",
        "XGBClassifier(base_score=0.5, booster='gbtree', colsample_bylevel=1,\n",
        "              colsample_bynode=1, colsample_bytree=1, eval_metric='mlogloss',\n",
        "              gamma=0, gpu_id=-1, importance_type='gain',\n",
        "              interaction_constraints='', learning_rate=0.300000012,\n",
        "              max_delta_step=0, max_depth=6, min_child_weight=1, missing=nan,\n",
        "              monotone_constraints='()', n_estimators=100, n_jobs=16,\n",
        "              num_parallel_tree=1, objective='multi:softprob', random_state=0,\n",
        "              reg_alpha=0, reg_lambda=1, scale_pos_weight=None, subsample=1,\n",
        "              tree_method='exact', use_label_encoder=False,\n",
        "              validate_parameters=1, verbosity=None)\n",
        "#Fitting\n",
        "model.fit(x_train, y_train)\n",
        "\n",
        "#Generate predictions\n",
        "y_pred = model.predict(x_test)\n",
        "y_pred"
      ],
      "metadata": {
        "colab": {
          "base_uri": "https://localhost:8080/"
        },
        "id": "0_OdmX-Khxat",
        "outputId": "bdc84c54-e8a4-425e-e1e6-d80c77a644ad"
      },
      "execution_count": null,
      "outputs": [
        {
          "output_type": "execute_result",
          "data": {
            "text/plain": [
              "array([1, 0, 0, 1, 0, 0, 0, 0, 1, 1, 0, 0, 1, 0, 1, 1, 0, 0, 0, 1, 1, 1,\n",
              "       0, 0, 1, 1, 0, 1, 0, 0, 0, 0, 1, 0, 0, 0, 0, 0, 0, 0, 0, 0, 0, 1,\n",
              "       0, 1, 1, 1, 1, 0, 1, 0, 1, 0, 0, 1, 1, 0, 0, 0, 1, 0, 1, 0, 0, 0,\n",
              "       0, 0, 1, 1, 0, 0, 0, 0, 0, 1, 0, 0, 1, 1, 0, 0, 1, 0, 0, 0, 0, 1,\n",
              "       0, 0, 0, 0, 1, 0, 0, 0, 1, 0, 1, 0, 1, 1, 0, 0, 0, 0, 1, 1, 0, 0,\n",
              "       0, 0, 1, 1])"
            ]
          },
          "metadata": {},
          "execution_count": 83
        }
      ]
    },
    {
      "cell_type": "code",
      "source": [
        "#Evaluate model performance\n",
        "accuracy = accuracy_score(y_test, y_pred)\n",
        "print(\"Accuracy= \"+str(round(accuracy*100,2))+\"%\")\n",
        "accuracy_all_features.append(round(accuracy*100,2))"
      ],
      "metadata": {
        "colab": {
          "base_uri": "https://localhost:8080/"
        },
        "id": "WrK4ZKURidX8",
        "outputId": "cd895486-196c-4ed9-ecde-419f116588d7"
      },
      "execution_count": null,
      "outputs": [
        {
          "output_type": "stream",
          "name": "stdout",
          "text": [
            "Accuracy= 96.49%\n"
          ]
        }
      ]
    },
    {
      "cell_type": "markdown",
      "source": [
        "Our XGBOOST model has a very good accuracy score of 96.49%."
      ],
      "metadata": {
        "id": "HoDM6KxBi5N0"
      }
    },
    {
      "cell_type": "markdown",
      "source": [
        "**Confusion Matrix**"
      ],
      "metadata": {
        "id": "L_lYvZeQjFHB"
      }
    },
    {
      "cell_type": "code",
      "source": [
        "confusion_matrix = pd.crosstab(y_test, y_pred, rownames=['Actual'], colnames=['Predicted'])\n",
        "sns.heatmap(confusion_matrix, annot=True)"
      ],
      "metadata": {
        "colab": {
          "base_uri": "https://localhost:8080/",
          "height": 351
        },
        "outputId": "70b7d654-3ece-42ac-98e7-6f78b44e956f",
        "id": "5a3Dz6CyjFHG"
      },
      "execution_count": null,
      "outputs": [
        {
          "output_type": "execute_result",
          "data": {
            "text/plain": [
              "<matplotlib.axes._subplots.AxesSubplot at 0x7fd5e23fff50>"
            ]
          },
          "metadata": {},
          "execution_count": 85
        },
        {
          "output_type": "display_data",
          "data": {
            "text/plain": [
              "<Figure size 576x360 with 2 Axes>"
            ],
            "image/png": "[encoded data removed]"
          },
          "metadata": {
            "needs_background": "light"
          }
        }
      ]
    },
    {
      "cell_type": "markdown",
      "source": [
        "*the value B (Benign) takes the number 0 (negative), and M (Malignant) takes the number 1 (positive).*\n",
        "\n",
        "72 observations were predicted as Benign and were actually Benign. (72 true negative)\n",
        "38 observations were predicted as Malignant and were actually Malignant. (38 true positive)\n",
        "1 observation was predicted as Benign and was actually Malignant. (1 false negative)\n",
        "3 observations predicted as Malignant and were actually Benign. (3 false positive)"
      ],
      "metadata": {
        "id": "ixiViKBjjFHK"
      }
    },
    {
      "cell_type": "markdown",
      "source": [
        "**Classification Report**"
      ],
      "metadata": {
        "id": "QokJr59bjFHM"
      }
    },
    {
      "cell_type": "code",
      "source": [
        "from sklearn.metrics import classification_report\n",
        "print(classification_report(y_test,y_pred))"
      ],
      "metadata": {
        "colab": {
          "base_uri": "https://localhost:8080/"
        },
        "outputId": "ef328c3f-c8db-4c5c-d2e2-de2f613b6e21",
        "id": "DvKRfSZNjFHN"
      },
      "execution_count": null,
      "outputs": [
        {
          "output_type": "stream",
          "name": "stdout",
          "text": [
            "              precision    recall  f1-score   support\n",
            "\n",
            "           0       0.99      0.96      0.97        75\n",
            "           1       0.93      0.97      0.95        39\n",
            "\n",
            "    accuracy                           0.96       114\n",
            "   macro avg       0.96      0.97      0.96       114\n",
            "weighted avg       0.97      0.96      0.97       114\n",
            "\n"
          ]
        }
      ]
    },
    {
      "cell_type": "markdown",
      "source": [
        "Accuracy = 0.96\n",
        "we made 96% correct predictions from all the observations\n",
        "For 1 (Malignant): \n",
        "Recall = 0.93\n",
        "Out of all the observations that were Malignant,we got 93% correct.\n",
        "(93% from all malignant)\n",
        "Precision =0.97\n",
        "Out of all the observations that we predicted to be Malignant, we got 97% correct.\n",
        "(97% from all malignant predictions)"
      ],
      "metadata": {
        "id": "YplTMcAVjFHQ"
      }
    },
    {
      "cell_type": "markdown",
      "source": [
        "**Using XGBOOST model only with the features that are highly correlated with the target**"
      ],
      "metadata": {
        "id": "27WJ2dAQyBtG"
      }
    },
    {
      "cell_type": "code",
      "source": [
        "#features and target\n",
        "x=df[high_corr]\n",
        "y=df[\"diagnosis\"]\n",
        "x_train, x_test, y_train, y_test = train_test_split(x, y, test_size=0.2, random_state=10)\n",
        "#Building the model\n",
        "model = XGBClassifier(use_label_encoder=False, eval_metric='mlogloss')\n",
        "XGBClassifier(base_score=0.5, booster='gbtree', colsample_bylevel=1,\n",
        "              colsample_bynode=1, colsample_bytree=1, eval_metric='mlogloss',\n",
        "              gamma=0, gpu_id=-1, importance_type='gain',\n",
        "              interaction_constraints='', learning_rate=0.300000012,\n",
        "              max_delta_step=0, max_depth=6, min_child_weight=1, missing=nan,\n",
        "              monotone_constraints='()', n_estimators=100, n_jobs=16,\n",
        "              num_parallel_tree=1, objective='multi:softprob', random_state=0,\n",
        "              reg_alpha=0, reg_lambda=1, scale_pos_weight=None, subsample=1,\n",
        "              tree_method='exact', use_label_encoder=False,\n",
        "              validate_parameters=1, verbosity=None)\n",
        "#Fitting\n",
        "model.fit(x_train, y_train)\n",
        "\n",
        "#Generate predictions\n",
        "y_pred = model.predict(x_test)\n",
        "#Evaluate model performance\n",
        "accuracy = accuracy_score(y_test, y_pred)\n",
        "print(\"Accuracy= \"+str(round(accuracy*100,2))+\"%\")\n",
        "accuracy_high_corr.append(round(accuracy*100,2))"
      ],
      "metadata": {
        "colab": {
          "base_uri": "https://localhost:8080/"
        },
        "id": "_hsRfCVExwxg",
        "outputId": "47f6a62a-5afd-4258-cca7-6146b1d7a9d4"
      },
      "execution_count": null,
      "outputs": [
        {
          "output_type": "stream",
          "name": "stdout",
          "text": [
            "Accuracy= 94.74%\n"
          ]
        }
      ]
    },
    {
      "cell_type": "markdown",
      "source": [
        "#AdaBoost"
      ],
      "metadata": {
        "id": "jIfadDFflg0R"
      }
    },
    {
      "cell_type": "markdown",
      "source": [
        "This boosting algorithm will be used to reduce overfitting and error by combining different classifiers, learning from their mistakes and turning them into a stronger one."
      ],
      "metadata": {
        "id": "8lSZliLIpN-I"
      }
    },
    {
      "cell_type": "code",
      "source": [
        "# Load libraries\n",
        "from sklearn.ensemble import AdaBoostClassifier\n",
        "from sklearn import datasets\n",
        "# Import train_test_split function\n",
        "from sklearn.model_selection import train_test_split\n",
        "#Import scikit-learn metrics module for accuracy calculation\n",
        "from sklearn import metrics"
      ],
      "metadata": {
        "id": "PYWUeBi6lf0b"
      },
      "execution_count": null,
      "outputs": []
    },
    {
      "cell_type": "code",
      "source": [
        "#features and target\n",
        "x_ada=df[f_names]\n",
        "y_ada=df[\"diagnosis\"]\n",
        "#training set and testing set\n",
        "x_train, x_test, y_train, y_test = train_test_split(x_ada, y_ada, test_size=0.2, random_state=10)"
      ],
      "metadata": {
        "id": "zAlkOQU8lyEi"
      },
      "execution_count": null,
      "outputs": []
    },
    {
      "cell_type": "code",
      "source": [
        "# Create adaboost classifer object\n",
        "abc = AdaBoostClassifier(n_estimators=50,\n",
        "                         learning_rate=1)\n",
        "# Train Adaboost Classifer\n",
        "model = abc.fit(x_train, y_train)\n",
        "\n",
        "#Predict the response for test dataset\n",
        "y_pred = model.predict(x_test)"
      ],
      "metadata": {
        "id": "n7eH33BRmDlU"
      },
      "execution_count": null,
      "outputs": []
    },
    {
      "cell_type": "code",
      "source": [
        "#Evaluate model performance\n",
        "accuracy = accuracy_score(y_test, y_pred)\n",
        "print(\"Accuracy= \"+str(round(accuracy*100,2))+\"%\")\n",
        "accuracy_all_features.append(round(accuracy*100,2))"
      ],
      "metadata": {
        "colab": {
          "base_uri": "https://localhost:8080/"
        },
        "id": "vT2iqmLkmK05",
        "outputId": "3c2cfea5-8c0a-43f2-f29e-337cad182ac2"
      },
      "execution_count": null,
      "outputs": [
        {
          "output_type": "stream",
          "name": "stdout",
          "text": [
            "Accuracy= 96.49%\n"
          ]
        }
      ]
    },
    {
      "cell_type": "markdown",
      "source": [
        "**Confusion Matrix**"
      ],
      "metadata": {
        "id": "yrre-DrHm6mA"
      }
    },
    {
      "cell_type": "code",
      "source": [
        "confusion_matrix = pd.crosstab(y_test, y_pred, rownames=['Actual'], colnames=['Predicted'])\n",
        "sns.heatmap(confusion_matrix, annot=True)"
      ],
      "metadata": {
        "colab": {
          "base_uri": "https://localhost:8080/",
          "height": 351
        },
        "outputId": "fa480194-74dc-4618-ceaa-65b65bb5a92a",
        "id": "Zjow4OHvm6mB"
      },
      "execution_count": null,
      "outputs": [
        {
          "output_type": "execute_result",
          "data": {
            "text/plain": [
              "<matplotlib.axes._subplots.AxesSubplot at 0x7fd5e5043290>"
            ]
          },
          "metadata": {},
          "execution_count": 91
        },
        {
          "output_type": "display_data",
          "data": {
            "text/plain": [
              "<Figure size 576x360 with 2 Axes>"
            ],
            "image/png": "[encoded data removed]"
          },
          "metadata": {
            "needs_background": "light"
          }
        }
      ]
    },
    {
      "cell_type": "markdown",
      "source": [
        "*the value B (Benign) takes the number 0 (negative), and M (Malignant) takes the number 1 (positive).*\n",
        "\n",
        "72 observations were predicted as Benign and were actually Benign. (72 true negative)\n",
        "38 observations were predicted as Malignant and were actually Malignant. (38 true positive)\n",
        "1 observation was predicted as Benign and was actually Malignant. (1 false negative)\n",
        "3 observations predicted as Malignant and were actually Benign. (3 false positive)"
      ],
      "metadata": {
        "id": "PPI58Vz1m6mD"
      }
    },
    {
      "cell_type": "markdown",
      "source": [
        "**Classification Report**"
      ],
      "metadata": {
        "id": "-5b7ga0vm6mF"
      }
    },
    {
      "cell_type": "code",
      "source": [
        "from sklearn.metrics import classification_report\n",
        "print(classification_report(y_test,y_pred))"
      ],
      "metadata": {
        "colab": {
          "base_uri": "https://localhost:8080/"
        },
        "outputId": "fef4c9c9-9358-4ed3-b790-f9a62e7eeb0b",
        "id": "ec1Ym8Wzm6mG"
      },
      "execution_count": null,
      "outputs": [
        {
          "output_type": "stream",
          "name": "stdout",
          "text": [
            "              precision    recall  f1-score   support\n",
            "\n",
            "           0       0.99      0.96      0.97        75\n",
            "           1       0.93      0.97      0.95        39\n",
            "\n",
            "    accuracy                           0.96       114\n",
            "   macro avg       0.96      0.97      0.96       114\n",
            "weighted avg       0.97      0.96      0.97       114\n",
            "\n"
          ]
        }
      ]
    },
    {
      "cell_type": "markdown",
      "source": [
        "We got the same accuracy, precision and recall results from the AdaBoost model as the XGBoost model"
      ],
      "metadata": {
        "id": "t8JG2jdjnUc5"
      }
    },
    {
      "cell_type": "markdown",
      "source": [
        "**Using AdaBoost model with only the features that are highly correlated with the target**"
      ],
      "metadata": {
        "id": "TqCBlWnHyr1j"
      }
    },
    {
      "cell_type": "code",
      "source": [
        "#features and target\n",
        "x_ada=df[high_corr]\n",
        "y_ada=df[\"diagnosis\"]\n",
        "#training set and testing set\n",
        "x_train, x_test, y_train, y_test = train_test_split(x_ada, y_ada, test_size=0.2, random_state=10)\n",
        "# Create adaboost classifer object\n",
        "abc = AdaBoostClassifier(n_estimators=50,\n",
        "                         learning_rate=1)\n",
        "# Train Adaboost Classifer\n",
        "model = abc.fit(x_train, y_train)\n",
        "\n",
        "#Predict the response for test dataset\n",
        "y_pred = model.predict(x_test)\n",
        "#Evaluate model performance\n",
        "accuracy = accuracy_score(y_test, y_pred)\n",
        "print(\"Accuracy= \"+str(round(accuracy*100,2))+\"%\")\n",
        "accuracy_high_corr.append(round(accuracy*100,2))"
      ],
      "metadata": {
        "colab": {
          "base_uri": "https://localhost:8080/"
        },
        "id": "TbA4o9gBybs2",
        "outputId": "2a7f16c2-15a7-41a7-916a-b36179acd44e"
      },
      "execution_count": null,
      "outputs": [
        {
          "output_type": "stream",
          "name": "stdout",
          "text": [
            "Accuracy= 94.74%\n"
          ]
        }
      ]
    },
    {
      "cell_type": "markdown",
      "source": [
        "#Models Accuracy Comparison"
      ],
      "metadata": {
        "id": "0i08sAyn1C5g"
      }
    },
    {
      "cell_type": "markdown",
      "source": [
        "Finally we will compare the classification accuracy between the models, and when reducing the number of features."
      ],
      "metadata": {
        "id": "JTxmIZTkkk6g"
      }
    },
    {
      "cell_type": "markdown",
      "source": [
        "We won't be comparing with the decision tree and random forest models which give varying accuracies."
      ],
      "metadata": {
        "id": "EK_lIZ0p6nAi"
      }
    },
    {
      "cell_type": "code",
      "source": [
        "accuracies=[accuracy_all_features,accuracy_high_corr]\n",
        "models=[\"KNN\",\"Logistic Regression\",\"XGBOOST\",\"AdaBoost\"]"
      ],
      "metadata": {
        "id": "rDQ8fXJn9skK"
      },
      "execution_count": null,
      "outputs": []
    },
    {
      "cell_type": "code",
      "source": [
        "df_acc = pd.DataFrame(accuracies, index =['All Features','High Correlation Features'],\n",
        "                                              columns =models)"
      ],
      "metadata": {
        "id": "FfYvV4q591Rv"
      },
      "execution_count": null,
      "outputs": []
    },
    {
      "cell_type": "code",
      "source": [
        "df_acc"
      ],
      "metadata": {
        "colab": {
          "base_uri": "https://localhost:8080/",
          "height": 112
        },
        "id": "OUqOxsp3-SEx",
        "outputId": "c7514902-873c-44c6-ec63-eb3e553c86d0"
      },
      "execution_count": null,
      "outputs": [
        {
          "output_type": "execute_result",
          "data": {
            "text/plain": [
              "                             KNN  Logistic Regression  XGBOOST  AdaBoost\n",
              "All Features               96.49                98.25    96.49     96.49\n",
              "High Correlation Features  95.61                95.61    94.74     94.74"
            ],
            "text/html": [
              "\n",
              "  <div id=\"df-86e1bbc4-ce38-4865-b26a-dcdb39edbce6\">\n",
              "    <div class=\"colab-df-container\">\n",
              "      <div>\n",
              "<style scoped>\n",
              "    .dataframe tbody tr th:only-of-type {\n",
              "        vertical-align: middle;\n",
              "    }\n",
              "\n",
              "    .dataframe tbody tr th {\n",
              "        vertical-align: top;\n",
              "    }\n",
              "\n",
              "    .dataframe thead th {\n",
              "        text-align: right;\n",
              "    }\n",
              "</style>\n",
              "<table border=\"1\" class=\"dataframe\">\n",
              "  <thead>\n",
              "    <tr style=\"text-align: right;\">\n",
              "      <th></th>\n",
              "      <th>KNN</th>\n",
              "      <th>Logistic Regression</th>\n",
              "      <th>XGBOOST</th>\n",
              "      <th>AdaBoost</th>\n",
              "    </tr>\n",
              "  </thead>\n",
              "  <tbody>\n",
              "    <tr>\n",
              "      <th>All Features</th>\n",
              "      <td>96.49</td>\n",
              "      <td>98.25</td>\n",
              "      <td>96.49</td>\n",
              "      <td>96.49</td>\n",
              "    </tr>\n",
              "    <tr>\n",
              "      <th>High Correlation Features</th>\n",
              "      <td>95.61</td>\n",
              "      <td>95.61</td>\n",
              "      <td>94.74</td>\n",
              "      <td>94.74</td>\n",
              "    </tr>\n",
              "  </tbody>\n",
              "</table>\n",
              "</div>\n",
              "      <button class=\"colab-df-convert\" onclick=\"convertToInteractive('df-86e1bbc4-ce38-4865-b26a-dcdb39edbce6')\"\n",
              "              title=\"Convert this dataframe to an interactive table.\"\n",
              "              style=\"display:none;\">\n",
              "        \n",
              "  <svg xmlns=\"http://www.w3.org/2000/svg\" height=\"24px\"viewBox=\"0 0 24 24\"\n",
              "       width=\"24px\">\n",
              "    <path d=\"M0 0h24v24H0V0z\" fill=\"none\"/>\n",
              "    <path d=\"M18.56 5.44l.94 2.06.94-2.06 2.06-.94-2.06-.94-.94-2.06-.94 2.06-2.06.94zm-11 1L8.5 8.5l.94-2.06 2.06-.94-2.06-.94L8.5 2.5l-.94 2.06-2.06.94zm10 10l.94 2.06.94-2.06 2.06-.94-2.06-.94-.94-2.06-.94 2.06-2.06.94z\"/><path d=\"M17.41 7.96l-1.37-1.37c-.4-.4-.92-.59-1.43-.59-.52 0-1.04.2-1.43.59L10.3 9.45l-7.72 7.72c-.78.78-.78 2.05 0 2.83L4 21.41c.39.39.9.59 1.41.59.51 0 1.02-.2 1.41-.59l7.78-7.78 2.81-2.81c.8-.78.8-2.07 0-2.86zM5.41 20L4 18.59l7.72-7.72 1.47 1.35L5.41 20z\"/>\n",
              "  </svg>\n",
              "      </button>\n",
              "      \n",
              "  <style>\n",
              "    .colab-df-container {\n",
              "      display:flex;\n",
              "      flex-wrap:wrap;\n",
              "      gap: 12px;\n",
              "    }\n",
              "\n",
              "    .colab-df-convert {\n",
              "      background-color: #E8F0FE;\n",
              "      border: none;\n",
              "      border-radius: 50%;\n",
              "      cursor: pointer;\n",
              "      display: none;\n",
              "      fill: #1967D2;\n",
              "      height: 32px;\n",
              "      padding: 0 0 0 0;\n",
              "      width: 32px;\n",
              "    }\n",
              "\n",
              "    .colab-df-convert:hover {\n",
              "      background-color: #E2EBFA;\n",
              "      box-shadow: 0px 1px 2px rgba(60, 64, 67, 0.3), 0px 1px 3px 1px rgba(60, 64, 67, 0.15);\n",
              "      fill: #174EA6;\n",
              "    }\n",
              "\n",
              "    [theme=dark] .colab-df-convert {\n",
              "      background-color: #3B4455;\n",
              "      fill: #D2E3FC;\n",
              "    }\n",
              "\n",
              "    [theme=dark] .colab-df-convert:hover {\n",
              "      background-color: #434B5C;\n",
              "      box-shadow: 0px 1px 3px 1px rgba(0, 0, 0, 0.15);\n",
              "      filter: drop-shadow(0px 1px 2px rgba(0, 0, 0, 0.3));\n",
              "      fill: #FFFFFF;\n",
              "    }\n",
              "  </style>\n",
              "\n",
              "      <script>\n",
              "        const buttonEl =\n",
              "          document.querySelector('#df-86e1bbc4-ce38-4865-b26a-dcdb39edbce6 button.colab-df-convert');\n",
              "        buttonEl.style.display =\n",
              "          google.colab.kernel.accessAllowed ? 'block' : 'none';\n",
              "\n",
              "        async function convertToInteractive(key) {\n",
              "          const element = document.querySelector('#df-86e1bbc4-ce38-4865-b26a-dcdb39edbce6');\n",
              "          const dataTable =\n",
              "            await google.colab.kernel.invokeFunction('convertToInteractive',\n",
              "                                                     [key], {});\n",
              "          if (!dataTable) return;\n",
              "\n",
              "          const docLinkHtml = 'Like what you see? Visit the ' +\n",
              "            '<a target=\"_blank\" href=https://colab.research.google.com/notebooks/data_table.ipynb>data table notebook</a>'\n",
              "            + ' to learn more about interactive tables.';\n",
              "          element.innerHTML = '';\n",
              "          dataTable['output_type'] = 'display_data';\n",
              "          await google.colab.output.renderOutput(dataTable, element);\n",
              "          const docLink = document.createElement('div');\n",
              "          docLink.innerHTML = docLinkHtml;\n",
              "          element.appendChild(docLink);\n",
              "        }\n",
              "      </script>\n",
              "    </div>\n",
              "  </div>\n",
              "  "
            ]
          },
          "metadata": {},
          "execution_count": 99
        }
      ]
    },
    {
      "cell_type": "markdown",
      "source": [
        "When we used all the features in our models, the **logistic regression** model gave the most accurate classification (ccuracy =98.25%) and KNN, XGBOOST and AdaBoost gave almost the same accuracies of 96.49%.\n",
        "\n",
        "When we only used the features that are highly correlated with the target, the best model that gave the highest classification accuracy were **KNN and Logistic Regression** with accuracies equal to 97.37%.\n",
        "\n",
        "But we can see that decreasing the number of features has improved the performance of the KNN model (accuracy went from 96.47% to 97.37%) but reduced the performance of all the other models; for logistic regression the accuracy went from 98.25% to 97.37%, as for the XGBOOST model, the accuracy went from 96.49% to 95.61%, and finally the the Adaboost model accuracy was 96.49% when we used all the features but was reduced to 92.98% when we used only the features that are highly correlated with the target 'Diagnosis'."
      ],
      "metadata": {
        "id": "5FJVj8oI6yOl"
      }
    },
    {
      "cell_type": "markdown",
      "source": [
        "#Conclusion"
      ],
      "metadata": {
        "id": "OUdIXN0tz9i-"
      }
    },
    {
      "cell_type": "markdown",
      "source": [
        "In this project, we used the Cancer Wisconsin (Diagnostic) Data Set, which contains a list of biopsies and measurements of digitized cell nucleis, to predict whether a diagnosis is Benign or Malignant, through various machine learning algorithms."
      ],
      "metadata": {
        "id": "2RiEv_Is0Bck"
      }
    }
  ]
}